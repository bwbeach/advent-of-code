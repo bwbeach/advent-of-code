{
 "cells": [
  {
   "cell_type": "code",
   "execution_count": 15,
   "id": "bd86ad72-0229-4087-bddc-615a55a57a3a",
   "metadata": {},
   "outputs": [],
   "source": [
    "import networkx as nx"
   ]
  },
  {
   "cell_type": "markdown",
   "id": "68308152-0d8b-40b9-90d2-81456fcf8781",
   "metadata": {},
   "source": [
    "Each line in the input file lists a nodename, then a colon, then a list of nodes it's connected to.\n",
    "\n",
    "```\n",
    "jqt: rhn xhk nvd\n",
    "```"
   ]
  },
  {
   "cell_type": "code",
   "execution_count": 16,
   "id": "defa321d-a32f-4f98-9807-90af9ff2ef9e",
   "metadata": {},
   "outputs": [
    {
     "data": {
      "text/plain": [
       "[('cxq', 'nfp'),\n",
       " ('cxq', 'chr'),\n",
       " ('cxq', 'dzz'),\n",
       " ('cxq', 'ljr'),\n",
       " ('rgp', 'qbd')]"
      ]
     },
     "execution_count": 16,
     "metadata": {},
     "output_type": "execute_result"
    }
   ],
   "source": [
    "def read_edges(file_name):\n",
    "    \"\"\"Yield all of the edges from an input file: (node1, node2)\"\"\"\n",
    "    with open(file_name, \"r\") as f:\n",
    "        for line in f:\n",
    "            (left, rhs) = line.strip().split(\":\")\n",
    "            for right in rhs.split():\n",
    "                yield(left, right)\n",
    "\n",
    "# Read the input file\n",
    "edges = list(read_edges(\"input.txt\"))\n",
    "edges[:5]"
   ]
  },
  {
   "cell_type": "code",
   "execution_count": 17,
   "id": "da62e6a6-87a5-4ea6-b3cd-995f5f7a6101",
   "metadata": {},
   "outputs": [],
   "source": [
    "# Build a graph from those edges\n",
    "def build_graph(edges):\n",
    "    g = nx.Graph()\n",
    "    for (a, b) in edges:\n",
    "        g.add_edge(a, b)\n",
    "    return g\n",
    "\n",
    "g = build_graph(edges)"
   ]
  },
  {
   "cell_type": "code",
   "execution_count": 18,
   "id": "4b9cc1b8-5609-4387-b44c-95559c33988d",
   "metadata": {},
   "outputs": [
    {
     "data": {
      "text/plain": [
       "3"
      ]
     },
     "execution_count": 18,
     "metadata": {},
     "output_type": "execute_result"
    }
   ],
   "source": [
    "# Partition the graph with a minimum cut\n",
    "edge_count, (nodes1, nodes2) = nx.stoer_wagner(g)\n",
    "\n",
    "# We expect the number of edges in the cut to be 3, based on the problem description\n",
    "edge_count"
   ]
  },
  {
   "cell_type": "code",
   "execution_count": 19,
   "id": "519d8fad-b695-4314-a87c-b7140e1a2165",
   "metadata": {},
   "outputs": [
    {
     "data": {
      "text/plain": [
       "613870"
      ]
     },
     "execution_count": 19,
     "metadata": {},
     "output_type": "execute_result"
    }
   ],
   "source": [
    "# The answer is the product of the sizes of the two sets of nodes\n",
    "len(nodes1) * len(nodes2)"
   ]
  },
  {
   "cell_type": "code",
   "execution_count": null,
   "id": "fd2b9e67-a7f6-4972-b863-a2e25931e4ab",
   "metadata": {},
   "outputs": [],
   "source": []
  }
 ],
 "metadata": {
  "kernelspec": {
   "display_name": "Python 3 (ipykernel)",
   "language": "python",
   "name": "python3"
  },
  "language_info": {
   "codemirror_mode": {
    "name": "ipython",
    "version": 3
   },
   "file_extension": ".py",
   "mimetype": "text/x-python",
   "name": "python",
   "nbconvert_exporter": "python",
   "pygments_lexer": "ipython3",
   "version": "3.11.7"
  }
 },
 "nbformat": 4,
 "nbformat_minor": 5
}
