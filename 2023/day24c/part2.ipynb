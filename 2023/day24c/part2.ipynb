{
 "cells": [
  {
   "cell_type": "markdown",
   "id": "bd0c469b-2099-4fb9-9999-d21ca679e4e4",
   "metadata": {},
   "source": [
    "# Day 24, Part 2\n",
    "\n",
    "This is my third go at this problem.  In my first try, I missed some algebra tricks and didn't see how to turn it into a system of linear equations, so I treated it as an [optimization problem](https://github.com/bwbeach/advent-of-code/blob/main/2023/day24/part2.ipynb).  After reading Reddit, and seeing how to do the algebra, my [second try in Haskell](https://github.com/bwbeach/advent-of-code/tree/main/2023/day24b) worked fine, but I was underwhelmed by the linear algebra libraries.  This time, I'm going to take the same approach, but do it in Python and ~numpy~ `sympy`.\n",
    "\n",
    "As with the second try in Haskell, we'll use rational numbers.  In Python, their called `Fraction`.\n",
    "\n",
    "I tried a first pass at this with `numpy`, and it turns out that it doesn't support solving linear equations with numbers that are Fractions.  Several pages I found online recommended using `sympy` instead, so let's switch to using that.  And while we're at it, we can try solving the system of equations directly."
   ]
  },
  {
   "cell_type": "code",
   "execution_count": 31,
   "id": "ce22f902-1ef6-4870-b9cd-709b114ea848",
   "metadata": {},
   "outputs": [],
   "source": [
    "import fileinput\n",
    "from fractions import Fraction\n",
    "import sympy as sp\n",
    "from sympy.abc import x, y, z, a, b, c  # will use a/b/c as the x/y/z components of rock velocity"
   ]
  },
  {
   "cell_type": "code",
   "execution_count": 30,
   "id": "f89c14b7-f544-4d00-8d98-fdf8695c60a5",
   "metadata": {},
   "outputs": [
    {
     "data": {
      "text/plain": [
       "([Fraction(197869613734967, 1),\n",
       "  Fraction(292946034245705, 1),\n",
       "  Fraction(309220804687650, 1)],\n",
       " [Fraction(150, 1), Fraction(5, 1), Fraction(-8, 1)])"
      ]
     },
     "execution_count": 30,
     "metadata": {},
     "output_type": "execute_result"
    }
   ],
   "source": [
    "# Read in the data into a list of hailstones.  \n",
    "# Each is a pair of numpy arrays: (position, velocity)\n",
    "#\n",
    "# Input lines look like:\n",
    "#    286311847445390, 152489168079800, 315302094634181 @ 29, -35, -385\n",
    "\n",
    "def parse_line(s):\n",
    "    \"\"\"Parse one line and return a hailstone\"\"\"\n",
    "    words = s.replace(\"@\", \"\").replace(\",\", \"\").split()\n",
    "    nums = [Fraction(w) for w in words]\n",
    "    return (nums[:3], nums[3:])\n",
    "\n",
    "hails = [parse_line(s) for s in fileinput.input(\"input.txt\")]\n",
    "hails[0]"
   ]
  },
  {
   "cell_type": "code",
   "execution_count": 33,
   "id": "0c4ba54e-112b-4f91-b177-fdab12ee9826",
   "metadata": {},
   "outputs": [
    {
     "data": {
      "text/plain": [
       "[([Fraction(197869613734967, 1), Fraction(292946034245705, 1)],\n",
       "  [Fraction(150, 1), Fraction(5, 1)]),\n",
       " ([Fraction(344503265587754, 1), Fraction(394181872935272, 1)],\n",
       "  [Fraction(-69, 1), Fraction(11, 1)])]"
      ]
     },
     "execution_count": 33,
     "metadata": {},
     "output_type": "execute_result"
    }
   ],
   "source": [
    "# Functions to flatten hail from 3D to 2D\n",
    "\n",
    "def dropX(hail):\n",
    "    (x, y, z), (dx, dy, dz) = hail\n",
    "    return ([y, z], [dy, dz])\n",
    "\n",
    "def dropZ(hail):\n",
    "    (x, y, z), (dx, dy, dz) = hail\n",
    "    return ([x, y], [dx, dy])\n",
    "\n",
    "# Make the two perspectives we'll be using\n",
    "hails_xy = [dropZ(h) for h in hails]\n",
    "hails_yz = [dropX(h) for h in hails]\n",
    "\n",
    "hails_xy[:2]"
   ]
  },
  {
   "cell_type": "code",
   "execution_count": 35,
   "id": "f7aa6667-dd0d-46f9-a958-8686c3b75e71",
   "metadata": {},
   "outputs": [
    {
     "data": {
      "text/latex": [
       "$\\displaystyle - 101235838689567 a + 146633651852787 b + 6 x + 219 y - 73940642222179977$"
      ],
      "text/plain": [
       "-101235838689567*a + 146633651852787*b + 6*x + 219*y - 73940642222179977"
      ]
     },
     "execution_count": 35,
     "metadata": {},
     "output_type": "execute_result"
    }
   ],
   "source": [
    "def make_equation(h1, h2, x, y, a, b):\n",
    "    \"\"\"Makes an equation from two two-dimensional hailstones\"\"\"\n",
    "    (pix, piy), (vix, viy) = h1\n",
    "    (pkx, pky), (vkx, vky) = h2\n",
    "    return (vky - viy) * x + (vix - vkx) * y + (piy - pky) * a + (pkx - pix) * b - (pkx * vky - pky * vkx - pix * viy + piy * vix)\n",
    "\n",
    "make_equation(hails_xy[0], hails_xy[1], x, y, a, b)"
   ]
  },
  {
   "cell_type": "code",
   "execution_count": 44,
   "id": "6cb65344-2bc1-47e4-8251-f895e0076b16",
   "metadata": {},
   "outputs": [
    {
     "data": {
      "text/latex": [
       "$\\displaystyle 646810057104753$"
      ],
      "text/plain": [
       "646810057104753"
      ]
     },
     "execution_count": 44,
     "metadata": {},
     "output_type": "execute_result"
    }
   ],
   "source": [
    "def solve_2d(hails_2d, x, y, a, b):\n",
    "    equations = [\n",
    "        make_equation(hails_2d[i*2], hails_2d[i*2+1], x, y, a, b)\n",
    "        for i in range(4)\n",
    "    ]\n",
    "    return sp.solve(equations, [x, y, a, b])\n",
    "\n",
    "s1 = solve_2d(hails_xy, x, y, a, b)\n",
    "s2 = solve_2d(hails_yz, x, z, a, c)\n",
    "\n",
    "s1[x] + s1[y] + s2[z]"
   ]
  },
  {
   "cell_type": "code",
   "execution_count": null,
   "id": "671aac29-41f3-4cb8-b9bf-95e9e0bf6291",
   "metadata": {},
   "outputs": [],
   "source": []
  }
 ],
 "metadata": {
  "kernelspec": {
   "display_name": "Python 3 (ipykernel)",
   "language": "python",
   "name": "python3"
  },
  "language_info": {
   "codemirror_mode": {
    "name": "ipython",
    "version": 3
   },
   "file_extension": ".py",
   "mimetype": "text/x-python",
   "name": "python",
   "nbconvert_exporter": "python",
   "pygments_lexer": "ipython3",
   "version": "3.11.7"
  }
 },
 "nbformat": 4,
 "nbformat_minor": 5
}
