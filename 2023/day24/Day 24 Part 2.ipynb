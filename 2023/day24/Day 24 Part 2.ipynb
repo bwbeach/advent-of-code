{
 "cells": [
  {
   "cell_type": "code",
   "execution_count": 2,
   "id": "22395948-2fb1-4046-bc1e-9a1ab8d787c2",
   "metadata": {},
   "outputs": [],
   "source": [
    "import plotly.express as px\n",
    "import pandas as pd"
   ]
  },
  {
   "cell_type": "code",
   "execution_count": 4,
   "id": "b4529af7-1fff-4900-a97e-6dba0b70c7c1",
   "metadata": {},
   "outputs": [
    {
     "data": {
      "text/plain": [
       "[([197869613734967, 292946034245705, 309220804687650], [150, 5, -8]),\n",
       " ([344503265587754, 394181872935272, 376338710786779], [-69, 11, -46]),\n",
       " ([293577250654200, 176398758803665, 272206447651388], [-17, 101, 26]),\n",
       " ([227838629808858, 367321356713508, 425398385268402], [65, 16, -116]),\n",
       " ([297081053375721, 388848043410867, 296378505058047], [-18, -39, 33])]"
      ]
     },
     "execution_count": 4,
     "metadata": {},
     "output_type": "execute_result"
    }
   ],
   "source": [
    "# The input file consists of lines with the starting position and velocity of a hailstone:\n",
    "#  '197869613734967, 292946034245705, 309220804687650 @ 150, 5, -8'\n",
    "#\n",
    "# Parse them and turn them into a list of pairs of lists:\n",
    "#\n",
    "#   ([197869613734967, 292946034245705, 309220804687650], [150, 5, -8]) \n",
    "#\n",
    "\n",
    "def parse_coords(s):\n",
    "    return [int(x) for x in s.split()]\n",
    "    \n",
    "def parse_input_line(line):\n",
    "    sides = line.replace(\",\", \"\").split(\"@\")\n",
    "    return (parse_coords(sides[0]), parse_coords(sides[1]))\n",
    "    \n",
    "def read_input_file():\n",
    "    with open(\"input.txt\") as f:\n",
    "        input_text = f.read()\n",
    "    input_lines = input_text.splitlines()\n",
    "    hail_lines = input_lines[1:]\n",
    "    return [parse_input_line(line) for line in hail_lines]\n",
    "\n",
    "hails = read_input_file() \n",
    "hails[0:5]"
   ]
  },
  {
   "cell_type": "code",
   "execution_count": 13,
   "id": "42401304-bb56-4181-b14a-e352f65ee637",
   "metadata": {},
   "outputs": [
    {
     "data": {
      "text/html": [
       "<div>\n",
       "<style scoped>\n",
       "    .dataframe tbody tr th:only-of-type {\n",
       "        vertical-align: middle;\n",
       "    }\n",
       "\n",
       "    .dataframe tbody tr th {\n",
       "        vertical-align: top;\n",
       "    }\n",
       "\n",
       "    .dataframe thead th {\n",
       "        text-align: right;\n",
       "    }\n",
       "</style>\n",
       "<table border=\"1\" class=\"dataframe\">\n",
       "  <thead>\n",
       "    <tr style=\"text-align: right;\">\n",
       "      <th></th>\n",
       "      <th>id</th>\n",
       "      <th>x</th>\n",
       "      <th>y</th>\n",
       "      <th>z</th>\n",
       "    </tr>\n",
       "  </thead>\n",
       "  <tbody>\n",
       "    <tr>\n",
       "      <th>0</th>\n",
       "      <td>0</td>\n",
       "      <td>197869613734967</td>\n",
       "      <td>292946034245705</td>\n",
       "      <td>309220804687650</td>\n",
       "    </tr>\n",
       "    <tr>\n",
       "      <th>1</th>\n",
       "      <td>0</td>\n",
       "      <td>197869613735117</td>\n",
       "      <td>292946034245710</td>\n",
       "      <td>309220804687642</td>\n",
       "    </tr>\n",
       "    <tr>\n",
       "      <th>2</th>\n",
       "      <td>1</td>\n",
       "      <td>344503265587754</td>\n",
       "      <td>394181872935272</td>\n",
       "      <td>376338710786779</td>\n",
       "    </tr>\n",
       "    <tr>\n",
       "      <th>3</th>\n",
       "      <td>1</td>\n",
       "      <td>344503265587685</td>\n",
       "      <td>394181872935283</td>\n",
       "      <td>376338710786733</td>\n",
       "    </tr>\n",
       "    <tr>\n",
       "      <th>4</th>\n",
       "      <td>2</td>\n",
       "      <td>293577250654200</td>\n",
       "      <td>176398758803665</td>\n",
       "      <td>272206447651388</td>\n",
       "    </tr>\n",
       "    <tr>\n",
       "      <th>...</th>\n",
       "      <td>...</td>\n",
       "      <td>...</td>\n",
       "      <td>...</td>\n",
       "      <td>...</td>\n",
       "    </tr>\n",
       "    <tr>\n",
       "      <th>195</th>\n",
       "      <td>97</td>\n",
       "      <td>281337106418170</td>\n",
       "      <td>131556887203662</td>\n",
       "      <td>394376757970699</td>\n",
       "    </tr>\n",
       "    <tr>\n",
       "      <th>196</th>\n",
       "      <td>98</td>\n",
       "      <td>330503962382908</td>\n",
       "      <td>330818974149580</td>\n",
       "      <td>537427943951777</td>\n",
       "    </tr>\n",
       "    <tr>\n",
       "      <th>197</th>\n",
       "      <td>98</td>\n",
       "      <td>330503962382850</td>\n",
       "      <td>330818974149635</td>\n",
       "      <td>537427943951522</td>\n",
       "    </tr>\n",
       "    <tr>\n",
       "      <th>198</th>\n",
       "      <td>99</td>\n",
       "      <td>283277882485918</td>\n",
       "      <td>140980016640358</td>\n",
       "      <td>250970251275309</td>\n",
       "    </tr>\n",
       "    <tr>\n",
       "      <th>199</th>\n",
       "      <td>99</td>\n",
       "      <td>283277882485995</td>\n",
       "      <td>140980016640296</td>\n",
       "      <td>250970251275406</td>\n",
       "    </tr>\n",
       "  </tbody>\n",
       "</table>\n",
       "<p>200 rows × 4 columns</p>\n",
       "</div>"
      ],
      "text/plain": [
       "     id                x                y                z\n",
       "0     0  197869613734967  292946034245705  309220804687650\n",
       "1     0  197869613735117  292946034245710  309220804687642\n",
       "2     1  344503265587754  394181872935272  376338710786779\n",
       "3     1  344503265587685  394181872935283  376338710786733\n",
       "4     2  293577250654200  176398758803665  272206447651388\n",
       "..   ..              ...              ...              ...\n",
       "195  97  281337106418170  131556887203662  394376757970699\n",
       "196  98  330503962382908  330818974149580  537427943951777\n",
       "197  98  330503962382850  330818974149635  537427943951522\n",
       "198  99  283277882485918  140980016640358  250970251275309\n",
       "199  99  283277882485995  140980016640296  250970251275406\n",
       "\n",
       "[200 rows x 4 columns]"
      ]
     },
     "execution_count": 13,
     "metadata": {},
     "output_type": "execute_result"
    }
   ],
   "source": [
    "# Turn `hails` into a DataFrame with these columns:\n",
    "#   id : unique id for each hailstone \n",
    "#   x : x coordinate \n",
    "#   y : y coordinate \n",
    "#   z : z coordinate \n",
    "#\n",
    "# Each hailstone has two entries: the starting point, and its travel as far as 0 or 50_000_000_000_000 on any axis.\n",
    "#\n",
    "\n",
    "def num_ticks(pos_and_vel):\n",
    "    (p, v) = pos_and_vel\n",
    "    if v < 0:\n",
    "        ticks = p // (-v)\n",
    "    else:\n",
    "        ticks = (50_000_000_000_000 - p) // v\n",
    "    return max(ticks, 1)\n",
    "\n",
    "def make_data_frame(entries): \n",
    "    records = [] \n",
    "    i = 0\n",
    "    for ([x, y, z], [vx, vy, vz]) in entries:\n",
    "        ticks = min(num_ticks(p_and_v) for p_and_v in zip([x, y, z], [vx, vy, vz]))\n",
    "        records.append(dict(id=i, x=x, y=y, z=z))\n",
    "        records.append(dict(id=i, x=(x + vx*ticks), y=(y + vy*ticks), z=(z + vz*ticks)))\n",
    "        i = i + 1\n",
    "    return pd.DataFrame.from_records(records)\n",
    "\n",
    "# My browser (Safari) hangs with 200 of them, so just showing 100.\n",
    "hail = make_data_frame(hails[:100])\n",
    "hail"
   ]
  },
  {
   "cell_type": "code",
   "execution_count": 14,
   "id": "8cd5cd2c-2d07-42ff-a4d6-bee3ab014918",
   "metadata": {},
   "outputs": [
    {
     "data": {
      "application/vnd.plotly.v1+json": {
       "config": {
        "plotlyServerURL": "https://plot.ly"
       },
       "data": [
        {
         "hovertemplate": "id=0<br>x=%{x}<br>y=%{y}<br>z=%{z}<extra></extra>",
         "legendgroup": "0",
         "line": {
          "color": "#636efa",
          "dash": "solid"
         },
         "marker": {
          "symbol": "circle"
         },
         "mode": "lines",
         "name": "0",
         "scene": "scene",
         "showlegend": true,
         "type": "scatter3d",
         "x": [
          197869613734967,
          197869613735117
         ],
         "y": [
          292946034245705,
          292946034245710
         ],
         "z": [
          309220804687650,
          309220804687642
         ]
        },
        {
         "hovertemplate": "id=1<br>x=%{x}<br>y=%{y}<br>z=%{z}<extra></extra>",
         "legendgroup": "1",
         "line": {
          "color": "#EF553B",
          "dash": "solid"
         },
         "marker": {
          "symbol": "circle"
         },
         "mode": "lines",
         "name": "1",
         "scene": "scene",
         "showlegend": true,
         "type": "scatter3d",
         "x": [
          344503265587754,
          344503265587685
         ],
         "y": [
          394181872935272,
          394181872935283
         ],
         "z": [
          376338710786779,
          376338710786733
         ]
        },
        {
         "hovertemplate": "id=2<br>x=%{x}<br>y=%{y}<br>z=%{z}<extra></extra>",
         "legendgroup": "2",
         "line": {
          "color": "#00cc96",
          "dash": "solid"
         },
         "marker": {
          "symbol": "circle"
         },
         "mode": "lines",
         "name": "2",
         "scene": "scene",
         "showlegend": true,
         "type": "scatter3d",
         "x": [
          293577250654200,
          293577250654183
         ],
         "y": [
          176398758803665,
          176398758803766
         ],
         "z": [
          272206447651388,
          272206447651414
         ]
        },
        {
         "hovertemplate": "id=3<br>x=%{x}<br>y=%{y}<br>z=%{z}<extra></extra>",
         "legendgroup": "3",
         "line": {
          "color": "#ab63fa",
          "dash": "solid"
         },
         "marker": {
          "symbol": "circle"
         },
         "mode": "lines",
         "name": "3",
         "scene": "scene",
         "showlegend": true,
         "type": "scatter3d",
         "x": [
          227838629808858,
          227838629808923
         ],
         "y": [
          367321356713508,
          367321356713524
         ],
         "z": [
          425398385268402,
          425398385268286
         ]
        },
        {
         "hovertemplate": "id=4<br>x=%{x}<br>y=%{y}<br>z=%{z}<extra></extra>",
         "legendgroup": "4",
         "line": {
          "color": "#FFA15A",
          "dash": "solid"
         },
         "marker": {
          "symbol": "circle"
         },
         "mode": "lines",
         "name": "4",
         "scene": "scene",
         "showlegend": true,
         "type": "scatter3d",
         "x": [
          297081053375721,
          297081053375703
         ],
         "y": [
          388848043410867,
          388848043410828
         ],
         "z": [
          296378505058047,
          296378505058080
         ]
        },
        {
         "hovertemplate": "id=5<br>x=%{x}<br>y=%{y}<br>z=%{z}<extra></extra>",
         "legendgroup": "5",
         "line": {
          "color": "#19d3f3",
          "dash": "solid"
         },
         "marker": {
          "symbol": "circle"
         },
         "mode": "lines",
         "name": "5",
         "scene": "scene",
         "showlegend": true,
         "type": "scatter3d",
         "x": [
          249754396059978,
          249754396060069
         ],
         "y": [
          259753263131310,
          259753263131260
         ],
         "z": [
          219900405025431,
          219900405025599
         ]
        },
        {
         "hovertemplate": "id=6<br>x=%{x}<br>y=%{y}<br>z=%{z}<extra></extra>",
         "legendgroup": "6",
         "line": {
          "color": "#FF6692",
          "dash": "solid"
         },
         "marker": {
          "symbol": "circle"
         },
         "mode": "lines",
         "name": "6",
         "scene": "scene",
         "showlegend": true,
         "type": "scatter3d",
         "x": [
          286919351742593,
          286919351742605
         ],
         "y": [
          228761881251504,
          228761881251228
         ],
         "z": [
          290165658974486,
          290165658974390
         ]
        },
        {
         "hovertemplate": "id=7<br>x=%{x}<br>y=%{y}<br>z=%{z}<extra></extra>",
         "legendgroup": "7",
         "line": {
          "color": "#B6E880",
          "dash": "solid"
         },
         "marker": {
          "symbol": "circle"
         },
         "mode": "lines",
         "name": "7",
         "scene": "scene",
         "showlegend": true,
         "type": "scatter3d",
         "x": [
          286311847445390,
          286311847445419
         ],
         "y": [
          152489168079800,
          152489168079765
         ],
         "z": [
          315302094634181,
          315302094633796
         ]
        },
        {
         "hovertemplate": "id=8<br>x=%{x}<br>y=%{y}<br>z=%{z}<extra></extra>",
         "legendgroup": "8",
         "line": {
          "color": "#FF97FF",
          "dash": "solid"
         },
         "marker": {
          "symbol": "circle"
         },
         "mode": "lines",
         "name": "8",
         "scene": "scene",
         "showlegend": true,
         "type": "scatter3d",
         "x": [
          288820028461659,
          288820028461651
         ],
         "y": [
          150144138610263,
          150144138610544
         ],
         "z": [
          536519846895513,
          536519846895304
         ]
        },
        {
         "hovertemplate": "id=9<br>x=%{x}<br>y=%{y}<br>z=%{z}<extra></extra>",
         "legendgroup": "9",
         "line": {
          "color": "#FECB52",
          "dash": "solid"
         },
         "marker": {
          "symbol": "circle"
         },
         "mode": "lines",
         "name": "9",
         "scene": "scene",
         "showlegend": true,
         "type": "scatter3d",
         "x": [
          351363783085246,
          170040386927056
         ],
         "y": [
          431469241705574,
          343132202551584
         ],
         "z": [
          539320870624397,
          37
         ]
        },
        {
         "hovertemplate": "id=10<br>x=%{x}<br>y=%{y}<br>z=%{z}<extra></extra>",
         "legendgroup": "10",
         "line": {
          "color": "#636efa",
          "dash": "solid"
         },
         "marker": {
          "symbol": "circle"
         },
         "mode": "lines",
         "name": "10",
         "scene": "scene",
         "showlegend": true,
         "type": "scatter3d",
         "x": [
          520741901046000,
          8
         ],
         "y": [
          486075674341440,
          398537165113881
         ],
         "z": [
          369706315508673,
          318081040836010
         ]
        },
        {
         "hovertemplate": "id=11<br>x=%{x}<br>y=%{y}<br>z=%{z}<extra></extra>",
         "legendgroup": "11",
         "line": {
          "color": "#EF553B",
          "dash": "solid"
         },
         "marker": {
          "symbol": "circle"
         },
         "mode": "lines",
         "name": "11",
         "scene": "scene",
         "showlegend": true,
         "type": "scatter3d",
         "x": [
          296908684971710,
          296908684971679
         ],
         "y": [
          177204123362510,
          177204123362559
         ],
         "z": [
          281142112744853,
          281142112744831
         ]
        },
        {
         "hovertemplate": "id=12<br>x=%{x}<br>y=%{y}<br>z=%{z}<extra></extra>",
         "legendgroup": "12",
         "line": {
          "color": "#00cc96",
          "dash": "solid"
         },
         "marker": {
          "symbol": "circle"
         },
         "mode": "lines",
         "name": "12",
         "scene": "scene",
         "showlegend": true,
         "type": "scatter3d",
         "x": [
          464778874251030,
          464778874250841
         ],
         "y": [
          349646113957650,
          349646113957727
         ],
         "z": [
          294333434112573,
          294333434112620
         ]
        },
        {
         "hovertemplate": "id=13<br>x=%{x}<br>y=%{y}<br>z=%{z}<extra></extra>",
         "legendgroup": "13",
         "line": {
          "color": "#ab63fa",
          "dash": "solid"
         },
         "marker": {
          "symbol": "circle"
         },
         "mode": "lines",
         "name": "13",
         "scene": "scene",
         "showlegend": true,
         "type": "scatter3d",
         "x": [
          223080581415839,
          223080581415901
         ],
         "y": [
          347888203813250,
          347888203813320
         ],
         "z": [
          182953206412142,
          182953206412306
         ]
        },
        {
         "hovertemplate": "id=14<br>x=%{x}<br>y=%{y}<br>z=%{z}<extra></extra>",
         "legendgroup": "14",
         "line": {
          "color": "#FFA15A",
          "dash": "solid"
         },
         "marker": {
          "symbol": "circle"
         },
         "mode": "lines",
         "name": "14",
         "scene": "scene",
         "showlegend": true,
         "type": "scatter3d",
         "x": [
          248758455691314,
          248758455691381
         ],
         "y": [
          346762126256074,
          346762126255962
         ],
         "z": [
          336814976102123,
          336814976102059
         ]
        },
        {
         "hovertemplate": "id=15<br>x=%{x}<br>y=%{y}<br>z=%{z}<extra></extra>",
         "legendgroup": "15",
         "line": {
          "color": "#19d3f3",
          "dash": "solid"
         },
         "marker": {
          "symbol": "circle"
         },
         "mode": "lines",
         "name": "15",
         "scene": "scene",
         "showlegend": true,
         "type": "scatter3d",
         "x": [
          305759617719566,
          305759617719529
         ],
         "y": [
          278636683190318,
          278636683190325
         ],
         "z": [
          293811872846781,
          293811872846794
         ]
        },
        {
         "hovertemplate": "id=16<br>x=%{x}<br>y=%{y}<br>z=%{z}<extra></extra>",
         "legendgroup": "16",
         "line": {
          "color": "#FF6692",
          "dash": "solid"
         },
         "marker": {
          "symbol": "circle"
         },
         "mode": "lines",
         "name": "16",
         "scene": "scene",
         "showlegend": true,
         "type": "scatter3d",
         "x": [
          261069455438014,
          261069455438227
         ],
         "y": [
          224906346121182,
          224906346120624
         ],
         "z": [
          312469904696747,
          312469904696392
         ]
        },
        {
         "hovertemplate": "id=17<br>x=%{x}<br>y=%{y}<br>z=%{z}<extra></extra>",
         "legendgroup": "17",
         "line": {
          "color": "#B6E880",
          "dash": "solid"
         },
         "marker": {
          "symbol": "circle"
         },
         "mode": "lines",
         "name": "17",
         "scene": "scene",
         "showlegend": true,
         "type": "scatter3d",
         "x": [
          175747324785094,
          175747324785205
         ],
         "y": [
          297435412745142,
          297435412745268
         ],
         "z": [
          423525775964281,
          423525775964191
         ]
        },
        {
         "hovertemplate": "id=18<br>x=%{x}<br>y=%{y}<br>z=%{z}<extra></extra>",
         "legendgroup": "18",
         "line": {
          "color": "#FF97FF",
          "dash": "solid"
         },
         "marker": {
          "symbol": "circle"
         },
         "mode": "lines",
         "name": "18",
         "scene": "scene",
         "showlegend": true,
         "type": "scatter3d",
         "x": [
          288744178785162,
          288744178785187
         ],
         "y": [
          132122659522473,
          132122659522452
         ],
         "z": [
          258206348685239,
          258206348685248
         ]
        },
        {
         "hovertemplate": "id=19<br>x=%{x}<br>y=%{y}<br>z=%{z}<extra></extra>",
         "legendgroup": "19",
         "line": {
          "color": "#FECB52",
          "dash": "solid"
         },
         "marker": {
          "symbol": "circle"
         },
         "mode": "lines",
         "name": "19",
         "scene": "scene",
         "showlegend": true,
         "type": "scatter3d",
         "x": [
          295813662568370,
          215895946553904
         ],
         "y": [
          254283641864230,
          20
         ],
         "z": [
          293357741330673,
          220705272226613
         ]
        },
        {
         "hovertemplate": "id=20<br>x=%{x}<br>y=%{y}<br>z=%{z}<extra></extra>",
         "legendgroup": "20",
         "line": {
          "color": "#636efa",
          "dash": "solid"
         },
         "marker": {
          "symbol": "circle"
         },
         "mode": "lines",
         "name": "20",
         "scene": "scene",
         "showlegend": true,
         "type": "scatter3d",
         "x": [
          154949963866962,
          154949963867174
         ],
         "y": [
          287525861043030,
          287525861043060
         ],
         "z": [
          236828184910989,
          236828184911104
         ]
        },
        {
         "hovertemplate": "id=21<br>x=%{x}<br>y=%{y}<br>z=%{z}<extra></extra>",
         "legendgroup": "21",
         "line": {
          "color": "#EF553B",
          "dash": "solid"
         },
         "marker": {
          "symbol": "circle"
         },
         "mode": "lines",
         "name": "21",
         "scene": "scene",
         "showlegend": true,
         "type": "scatter3d",
         "x": [
          249405710994408,
          249405710994448
         ],
         "y": [
          288399639351476,
          288399639351583
         ],
         "z": [
          278889781077279,
          278889781077337
         ]
        },
        {
         "hovertemplate": "id=22<br>x=%{x}<br>y=%{y}<br>z=%{z}<extra></extra>",
         "legendgroup": "22",
         "line": {
          "color": "#00cc96",
          "dash": "solid"
         },
         "marker": {
          "symbol": "circle"
         },
         "mode": "lines",
         "name": "22",
         "scene": "scene",
         "showlegend": true,
         "type": "scatter3d",
         "x": [
          261619805679875,
          261619805679893
         ],
         "y": [
          455908136153330,
          455908136153320
         ],
         "z": [
          353090693287483,
          353090693287476
         ]
        },
        {
         "hovertemplate": "id=23<br>x=%{x}<br>y=%{y}<br>z=%{z}<extra></extra>",
         "legendgroup": "23",
         "line": {
          "color": "#ab63fa",
          "dash": "solid"
         },
         "marker": {
          "symbol": "circle"
         },
         "mode": "lines",
         "name": "23",
         "scene": "scene",
         "showlegend": true,
         "type": "scatter3d",
         "x": [
          330456261567276,
          25378001349790
         ],
         "y": [
          292626086331062,
          4
         ],
         "z": [
          325102953175383,
          94737736276465
         ]
        },
        {
         "hovertemplate": "id=24<br>x=%{x}<br>y=%{y}<br>z=%{z}<extra></extra>",
         "legendgroup": "24",
         "line": {
          "color": "#FFA15A",
          "dash": "solid"
         },
         "marker": {
          "symbol": "circle"
         },
         "mode": "lines",
         "name": "24",
         "scene": "scene",
         "showlegend": true,
         "type": "scatter3d",
         "x": [
          299424195935038,
          299424195935019
         ],
         "y": [
          510703474048950,
          510703474048860
         ],
         "z": [
          292252992375285,
          292252992375334
         ]
        },
        {
         "hovertemplate": "id=25<br>x=%{x}<br>y=%{y}<br>z=%{z}<extra></extra>",
         "legendgroup": "25",
         "line": {
          "color": "#19d3f3",
          "dash": "solid"
         },
         "marker": {
          "symbol": "circle"
         },
         "mode": "lines",
         "name": "25",
         "scene": "scene",
         "showlegend": true,
         "type": "scatter3d",
         "x": [
          289238752547322,
          289238752547315
         ],
         "y": [
          290180922496209,
          290180922496232
         ],
         "z": [
          356685344768994,
          356685344768912
         ]
        },
        {
         "hovertemplate": "id=26<br>x=%{x}<br>y=%{y}<br>z=%{z}<extra></extra>",
         "legendgroup": "26",
         "line": {
          "color": "#FF6692",
          "dash": "solid"
         },
         "marker": {
          "symbol": "circle"
         },
         "mode": "lines",
         "name": "26",
         "scene": "scene",
         "showlegend": true,
         "type": "scatter3d",
         "x": [
          280872765743550,
          280872765743571
         ],
         "y": [
          201108566398725,
          201108566398766
         ],
         "z": [
          258965390526423,
          258965390526492
         ]
        },
        {
         "hovertemplate": "id=27<br>x=%{x}<br>y=%{y}<br>z=%{z}<extra></extra>",
         "legendgroup": "27",
         "line": {
          "color": "#B6E880",
          "dash": "solid"
         },
         "marker": {
          "symbol": "circle"
         },
         "mode": "lines",
         "name": "27",
         "scene": "scene",
         "showlegend": true,
         "type": "scatter3d",
         "x": [
          275979615869275,
          275979615869409
         ],
         "y": [
          148504223460275,
          148504223460190
         ],
         "z": [
          255005089561549,
          255005089561608
         ]
        },
        {
         "hovertemplate": "id=28<br>x=%{x}<br>y=%{y}<br>z=%{z}<extra></extra>",
         "legendgroup": "28",
         "line": {
          "color": "#FF97FF",
          "dash": "solid"
         },
         "marker": {
          "symbol": "circle"
         },
         "mode": "lines",
         "name": "28",
         "scene": "scene",
         "showlegend": true,
         "type": "scatter3d",
         "x": [
          387325456061188,
          33
         ],
         "y": [
          345202312209860,
          42899517235300
         ],
         "z": [
          329940617813946,
          201461929949758
         ]
        },
        {
         "hovertemplate": "id=29<br>x=%{x}<br>y=%{y}<br>z=%{z}<extra></extra>",
         "legendgroup": "29",
         "line": {
          "color": "#FECB52",
          "dash": "solid"
         },
         "marker": {
          "symbol": "circle"
         },
         "mode": "lines",
         "name": "29",
         "scene": "scene",
         "showlegend": true,
         "type": "scatter3d",
         "x": [
          234283292154810,
          234283292154874
         ],
         "y": [
          377522770250222,
          377522770250194
         ],
         "z": [
          301277403416473,
          301277403416499
         ]
        },
        {
         "hovertemplate": "id=30<br>x=%{x}<br>y=%{y}<br>z=%{z}<extra></extra>",
         "legendgroup": "30",
         "line": {
          "color": "#636efa",
          "dash": "solid"
         },
         "marker": {
          "symbol": "circle"
         },
         "mode": "lines",
         "name": "30",
         "scene": "scene",
         "showlegend": true,
         "type": "scatter3d",
         "x": [
          392077346074701,
          74959140893231
         ],
         "y": [
          495085824379504,
          333643829014392
         ],
         "z": [
          530452270485388,
          20
         ]
        },
        {
         "hovertemplate": "id=31<br>x=%{x}<br>y=%{y}<br>z=%{z}<extra></extra>",
         "legendgroup": "31",
         "line": {
          "color": "#EF553B",
          "dash": "solid"
         },
         "marker": {
          "symbol": "circle"
         },
         "mode": "lines",
         "name": "31",
         "scene": "scene",
         "showlegend": true,
         "type": "scatter3d",
         "x": [
          303921565996632,
          167570519496194
         ],
         "y": [
          184162452416208,
          32
         ],
         "z": [
          288112084900062,
          100408046860498
         ]
        },
        {
         "hovertemplate": "id=32<br>x=%{x}<br>y=%{y}<br>z=%{z}<extra></extra>",
         "legendgroup": "32",
         "line": {
          "color": "#00cc96",
          "dash": "solid"
         },
         "marker": {
          "symbol": "circle"
         },
         "mode": "lines",
         "name": "32",
         "scene": "scene",
         "showlegend": true,
         "type": "scatter3d",
         "x": [
          279914507067786,
          279914507067802
         ],
         "y": [
          272090396870874,
          272090396870817
         ],
         "z": [
          137037141013257,
          137037141013611
         ]
        },
        {
         "hovertemplate": "id=33<br>x=%{x}<br>y=%{y}<br>z=%{z}<extra></extra>",
         "legendgroup": "33",
         "line": {
          "color": "#ab63fa",
          "dash": "solid"
         },
         "marker": {
          "symbol": "circle"
         },
         "mode": "lines",
         "name": "33",
         "scene": "scene",
         "showlegend": true,
         "type": "scatter3d",
         "x": [
          265091370503554,
          265091370503595
         ],
         "y": [
          259490553837145,
          259490553837170
         ],
         "z": [
          294987941742668,
          294987941742674
         ]
        },
        {
         "hovertemplate": "id=34<br>x=%{x}<br>y=%{y}<br>z=%{z}<extra></extra>",
         "legendgroup": "34",
         "line": {
          "color": "#FFA15A",
          "dash": "solid"
         },
         "marker": {
          "symbol": "circle"
         },
         "mode": "lines",
         "name": "34",
         "scene": "scene",
         "showlegend": true,
         "type": "scatter3d",
         "x": [
          277324636544734,
          277324636544739
         ],
         "y": [
          487331020226038,
          487331020225940
         ],
         "z": [
          542928614247113,
          542928614246879
         ]
        },
        {
         "hovertemplate": "id=35<br>x=%{x}<br>y=%{y}<br>z=%{z}<extra></extra>",
         "legendgroup": "35",
         "line": {
          "color": "#19d3f3",
          "dash": "solid"
         },
         "marker": {
          "symbol": "circle"
         },
         "mode": "lines",
         "name": "35",
         "scene": "scene",
         "showlegend": true,
         "type": "scatter3d",
         "x": [
          261897775442772,
          261897775442795
         ],
         "y": [
          280478694349944,
          280478694350072
         ],
         "z": [
          288319637735007,
          288319637735056
         ]
        },
        {
         "hovertemplate": "id=36<br>x=%{x}<br>y=%{y}<br>z=%{z}<extra></extra>",
         "legendgroup": "36",
         "line": {
          "color": "#FF6692",
          "dash": "solid"
         },
         "marker": {
          "symbol": "circle"
         },
         "mode": "lines",
         "name": "36",
         "scene": "scene",
         "showlegend": true,
         "type": "scatter3d",
         "x": [
          282398761112085,
          282398761112159
         ],
         "y": [
          136973576351520,
          136973576351544
         ],
         "z": [
          265394454424968,
          265394454424932
         ]
        },
        {
         "hovertemplate": "id=37<br>x=%{x}<br>y=%{y}<br>z=%{z}<extra></extra>",
         "legendgroup": "37",
         "line": {
          "color": "#B6E880",
          "dash": "solid"
         },
         "marker": {
          "symbol": "circle"
         },
         "mode": "lines",
         "name": "37",
         "scene": "scene",
         "showlegend": true,
         "type": "scatter3d",
         "x": [
          347154810802281,
          347154810802209
         ],
         "y": [
          412858527953970,
          412858527953960
         ],
         "z": [
          218797176940017,
          218797176940144
         ]
        },
        {
         "hovertemplate": "id=38<br>x=%{x}<br>y=%{y}<br>z=%{z}<extra></extra>",
         "legendgroup": "38",
         "line": {
          "color": "#FF97FF",
          "dash": "solid"
         },
         "marker": {
          "symbol": "circle"
         },
         "mode": "lines",
         "name": "38",
         "scene": "scene",
         "showlegend": true,
         "type": "scatter3d",
         "x": [
          342824292561169,
          4200787937105
         ],
         "y": [
          362027652434593,
          134995984561641
         ],
         "z": [
          377103448331376,
          32
         ]
        },
        {
         "hovertemplate": "id=39<br>x=%{x}<br>y=%{y}<br>z=%{z}<extra></extra>",
         "legendgroup": "39",
         "line": {
          "color": "#FECB52",
          "dash": "solid"
         },
         "marker": {
          "symbol": "circle"
         },
         "mode": "lines",
         "name": "39",
         "scene": "scene",
         "showlegend": true,
         "type": "scatter3d",
         "x": [
          303342712558226,
          303342712558139
         ],
         "y": [
          143531465945890,
          143531465945960
         ],
         "z": [
          263215337554529,
          263215337554544
         ]
        },
        {
         "hovertemplate": "id=40<br>x=%{x}<br>y=%{y}<br>z=%{z}<extra></extra>",
         "legendgroup": "40",
         "line": {
          "color": "#636efa",
          "dash": "solid"
         },
         "marker": {
          "symbol": "circle"
         },
         "mode": "lines",
         "name": "40",
         "scene": "scene",
         "showlegend": true,
         "type": "scatter3d",
         "x": [
          275380876849407,
          275380876849549
         ],
         "y": [
          104449535339038,
          104449535339360
         ],
         "z": [
          273473922524719,
          273473922524604
         ]
        },
        {
         "hovertemplate": "id=41<br>x=%{x}<br>y=%{y}<br>z=%{z}<extra></extra>",
         "legendgroup": "41",
         "line": {
          "color": "#EF553B",
          "dash": "solid"
         },
         "marker": {
          "symbol": "circle"
         },
         "mode": "lines",
         "name": "41",
         "scene": "scene",
         "showlegend": true,
         "type": "scatter3d",
         "x": [
          285636284070876,
          285636284070871
         ],
         "y": [
          35217949523578,
          35217949523976
         ],
         "z": [
          152994957457591,
          152994957457780
         ]
        },
        {
         "hovertemplate": "id=42<br>x=%{x}<br>y=%{y}<br>z=%{z}<extra></extra>",
         "legendgroup": "42",
         "line": {
          "color": "#00cc96",
          "dash": "solid"
         },
         "marker": {
          "symbol": "circle"
         },
         "mode": "lines",
         "name": "42",
         "scene": "scene",
         "showlegend": true,
         "type": "scatter3d",
         "x": [
          294685250599224,
          294685250599170
         ],
         "y": [
          122742414916884,
          122742414916941
         ],
         "z": [
          261780925324521,
          261780925324466
         ]
        },
        {
         "hovertemplate": "id=43<br>x=%{x}<br>y=%{y}<br>z=%{z}<extra></extra>",
         "legendgroup": "43",
         "line": {
          "color": "#ab63fa",
          "dash": "solid"
         },
         "marker": {
          "symbol": "circle"
         },
         "mode": "lines",
         "name": "43",
         "scene": "scene",
         "showlegend": true,
         "type": "scatter3d",
         "x": [
          314169716569136,
          314169716569072
         ],
         "y": [
          156663661505480,
          156663661505685
         ],
         "z": [
          455739759596215,
          455739759595825
         ]
        },
        {
         "hovertemplate": "id=44<br>x=%{x}<br>y=%{y}<br>z=%{z}<extra></extra>",
         "legendgroup": "44",
         "line": {
          "color": "#FFA15A",
          "dash": "solid"
         },
         "marker": {
          "symbol": "circle"
         },
         "mode": "lines",
         "name": "44",
         "scene": "scene",
         "showlegend": true,
         "type": "scatter3d",
         "x": [
          300983303095740,
          300983303095652
         ],
         "y": [
          133957419148920,
          133957419148999
         ],
         "z": [
          261097837194423,
          261097837194435
         ]
        },
        {
         "hovertemplate": "id=45<br>x=%{x}<br>y=%{y}<br>z=%{z}<extra></extra>",
         "legendgroup": "45",
         "line": {
          "color": "#19d3f3",
          "dash": "solid"
         },
         "marker": {
          "symbol": "circle"
         },
         "mode": "lines",
         "name": "45",
         "scene": "scene",
         "showlegend": true,
         "type": "scatter3d",
         "x": [
          158215971846888,
          158215971847034
         ],
         "y": [
          339904610013018,
          339904610013070
         ],
         "z": [
          239642086049769,
          239642086049874
         ]
        },
        {
         "hovertemplate": "id=46<br>x=%{x}<br>y=%{y}<br>z=%{z}<extra></extra>",
         "legendgroup": "46",
         "line": {
          "color": "#FF6692",
          "dash": "solid"
         },
         "marker": {
          "symbol": "circle"
         },
         "mode": "lines",
         "name": "46",
         "scene": "scene",
         "showlegend": true,
         "type": "scatter3d",
         "x": [
          274536031464654,
          274536031464700
         ],
         "y": [
          65723174697222,
          65723174697678
         ],
         "z": [
          354345054787149,
          354345054786898
         ]
        },
        {
         "hovertemplate": "id=47<br>x=%{x}<br>y=%{y}<br>z=%{z}<extra></extra>",
         "legendgroup": "47",
         "line": {
          "color": "#B6E880",
          "dash": "solid"
         },
         "marker": {
          "symbol": "circle"
         },
         "mode": "lines",
         "name": "47",
         "scene": "scene",
         "showlegend": true,
         "type": "scatter3d",
         "x": [
          327841767697610,
          327841767697544
         ],
         "y": [
          339044435628830,
          339044435628802
         ],
         "z": [
          283110688052013,
          283110688052056
         ]
        },
        {
         "hovertemplate": "id=48<br>x=%{x}<br>y=%{y}<br>z=%{z}<extra></extra>",
         "legendgroup": "48",
         "line": {
          "color": "#FF97FF",
          "dash": "solid"
         },
         "marker": {
          "symbol": "circle"
         },
         "mode": "lines",
         "name": "48",
         "scene": "scene",
         "showlegend": true,
         "type": "scatter3d",
         "x": [
          330929514175462,
          330929514175395
         ],
         "y": [
          504607737339754,
          504607737339512
         ],
         "z": [
          162507010450204,
          162507010450422
         ]
        },
        {
         "hovertemplate": "id=49<br>x=%{x}<br>y=%{y}<br>z=%{z}<extra></extra>",
         "legendgroup": "49",
         "line": {
          "color": "#FECB52",
          "dash": "solid"
         },
         "marker": {
          "symbol": "circle"
         },
         "mode": "lines",
         "name": "49",
         "scene": "scene",
         "showlegend": true,
         "type": "scatter3d",
         "x": [
          276948325793030,
          276948325793107
         ],
         "y": [
          149100573461750,
          149100573461808
         ],
         "z": [
          201857443244268,
          201857443244656
         ]
        },
        {
         "hovertemplate": "id=50<br>x=%{x}<br>y=%{y}<br>z=%{z}<extra></extra>",
         "legendgroup": "50",
         "line": {
          "color": "#636efa",
          "dash": "solid"
         },
         "marker": {
          "symbol": "circle"
         },
         "mode": "lines",
         "name": "50",
         "scene": "scene",
         "showlegend": true,
         "type": "scatter3d",
         "x": [
          260677243049794,
          260677243049829
         ],
         "y": [
          257886873526064,
          257886873526165
         ],
         "z": [
          401788966601771,
          401788966601639
         ]
        },
        {
         "hovertemplate": "id=51<br>x=%{x}<br>y=%{y}<br>z=%{z}<extra></extra>",
         "legendgroup": "51",
         "line": {
          "color": "#EF553B",
          "dash": "solid"
         },
         "marker": {
          "symbol": "circle"
         },
         "mode": "lines",
         "name": "51",
         "scene": "scene",
         "showlegend": true,
         "type": "scatter3d",
         "x": [
          238764538535158,
          238764538535203
         ],
         "y": [
          239639934534678,
          239639934534864
         ],
         "z": [
          427263483474075,
          427263483473980
         ]
        },
        {
         "hovertemplate": "id=52<br>x=%{x}<br>y=%{y}<br>z=%{z}<extra></extra>",
         "legendgroup": "52",
         "line": {
          "color": "#00cc96",
          "dash": "solid"
         },
         "marker": {
          "symbol": "circle"
         },
         "mode": "lines",
         "name": "52",
         "scene": "scene",
         "showlegend": true,
         "type": "scatter3d",
         "x": [
          294271217851860,
          277376248537623
         ],
         "y": [
          279973777207680,
          324
         ],
         "z": [
          317358232153488,
          187025611729374
         ]
        },
        {
         "hovertemplate": "id=53<br>x=%{x}<br>y=%{y}<br>z=%{z}<extra></extra>",
         "legendgroup": "53",
         "line": {
          "color": "#ab63fa",
          "dash": "solid"
         },
         "marker": {
          "symbol": "circle"
         },
         "mode": "lines",
         "name": "53",
         "scene": "scene",
         "showlegend": true,
         "type": "scatter3d",
         "x": [
          240944232332486,
          240944232332719
         ],
         "y": [
          140602546133218,
          140602546133370
         ],
         "z": [
          173583047033163,
          173583047033629
         ]
        },
        {
         "hovertemplate": "id=54<br>x=%{x}<br>y=%{y}<br>z=%{z}<extra></extra>",
         "legendgroup": "54",
         "line": {
          "color": "#FFA15A",
          "dash": "solid"
         },
         "marker": {
          "symbol": "circle"
         },
         "mode": "lines",
         "name": "54",
         "scene": "scene",
         "showlegend": true,
         "type": "scatter3d",
         "x": [
          299283097756530,
          299283097756473
         ],
         "y": [
          171124444230390,
          171124444230312
         ],
         "z": [
          232178177063823,
          232178177064031
         ]
        },
        {
         "hovertemplate": "id=55<br>x=%{x}<br>y=%{y}<br>z=%{z}<extra></extra>",
         "legendgroup": "55",
         "line": {
          "color": "#19d3f3",
          "dash": "solid"
         },
         "marker": {
          "symbol": "circle"
         },
         "mode": "lines",
         "name": "55",
         "scene": "scene",
         "showlegend": true,
         "type": "scatter3d",
         "x": [
          309506824723454,
          309506824723411
         ],
         "y": [
          193340344086617,
          193340344086786
         ],
         "z": [
          325677550626124,
          325677550626082
         ]
        },
        {
         "hovertemplate": "id=56<br>x=%{x}<br>y=%{y}<br>z=%{z}<extra></extra>",
         "legendgroup": "56",
         "line": {
          "color": "#FF6692",
          "dash": "solid"
         },
         "marker": {
          "symbol": "circle"
         },
         "mode": "lines",
         "name": "56",
         "scene": "scene",
         "showlegend": true,
         "type": "scatter3d",
         "x": [
          313257508666173,
          313257508666091
         ],
         "y": [
          193901329414071,
          193901329414104
         ],
         "z": [
          312656919318366,
          312656919318256
         ]
        },
        {
         "hovertemplate": "id=57<br>x=%{x}<br>y=%{y}<br>z=%{z}<extra></extra>",
         "legendgroup": "57",
         "line": {
          "color": "#B6E880",
          "dash": "solid"
         },
         "marker": {
          "symbol": "circle"
         },
         "mode": "lines",
         "name": "57",
         "scene": "scene",
         "showlegend": true,
         "type": "scatter3d",
         "x": [
          562238344970567,
          83
         ],
         "y": [
          521281584140464,
          365332262177848
         ],
         "z": [
          554003079517479,
          137454232696281
         ]
        },
        {
         "hovertemplate": "id=58<br>x=%{x}<br>y=%{y}<br>z=%{z}<extra></extra>",
         "legendgroup": "58",
         "line": {
          "color": "#FF97FF",
          "dash": "solid"
         },
         "marker": {
          "symbol": "circle"
         },
         "mode": "lines",
         "name": "58",
         "scene": "scene",
         "showlegend": true,
         "type": "scatter3d",
         "x": [
          298867675092622,
          298867675092604
         ],
         "y": [
          413106341656246,
          413106341656275
         ],
         "z": [
          319408082070669,
          319408082070694
         ]
        },
        {
         "hovertemplate": "id=59<br>x=%{x}<br>y=%{y}<br>z=%{z}<extra></extra>",
         "legendgroup": "59",
         "line": {
          "color": "#FECB52",
          "dash": "solid"
         },
         "marker": {
          "symbol": "circle"
         },
         "mode": "lines",
         "name": "59",
         "scene": "scene",
         "showlegend": true,
         "type": "scatter3d",
         "x": [
          370336364999228,
          370336364999120
         ],
         "y": [
          303102716871354,
          303102716871438
         ],
         "z": [
          236944508864721,
          236944508864830
         ]
        },
        {
         "hovertemplate": "id=60<br>x=%{x}<br>y=%{y}<br>z=%{z}<extra></extra>",
         "legendgroup": "60",
         "line": {
          "color": "#636efa",
          "dash": "solid"
         },
         "marker": {
          "symbol": "circle"
         },
         "mode": "lines",
         "name": "60",
         "scene": "scene",
         "showlegend": true,
         "type": "scatter3d",
         "x": [
          280537764410923,
          280537764410995
         ],
         "y": [
          102390738316029,
          102390738316368
         ],
         "z": [
          173484039005415,
          173484039006088
         ]
        },
        {
         "hovertemplate": "id=61<br>x=%{x}<br>y=%{y}<br>z=%{z}<extra></extra>",
         "legendgroup": "61",
         "line": {
          "color": "#EF553B",
          "dash": "solid"
         },
         "marker": {
          "symbol": "circle"
         },
         "mode": "lines",
         "name": "61",
         "scene": "scene",
         "showlegend": true,
         "type": "scatter3d",
         "x": [
          292740513454551,
          292740513454537
         ],
         "y": [
          187470172834775,
          187470172834870
         ],
         "z": [
          251899331250560,
          251899331250650
         ]
        },
        {
         "hovertemplate": "id=62<br>x=%{x}<br>y=%{y}<br>z=%{z}<extra></extra>",
         "legendgroup": "62",
         "line": {
          "color": "#00cc96",
          "dash": "solid"
         },
         "marker": {
          "symbol": "circle"
         },
         "mode": "lines",
         "name": "62",
         "scene": "scene",
         "showlegend": true,
         "type": "scatter3d",
         "x": [
          311208406217498,
          219349878997430
         ],
         "y": [
          244876960258574,
          177805654669318
         ],
         "z": [
          384930971208158,
          254
         ]
        },
        {
         "hovertemplate": "id=63<br>x=%{x}<br>y=%{y}<br>z=%{z}<extra></extra>",
         "legendgroup": "63",
         "line": {
          "color": "#ab63fa",
          "dash": "solid"
         },
         "marker": {
          "symbol": "circle"
         },
         "mode": "lines",
         "name": "63",
         "scene": "scene",
         "showlegend": true,
         "type": "scatter3d",
         "x": [
          282757042955406,
          282757042955464
         ],
         "y": [
          134469559669654,
          134469559669745
         ],
         "z": [
          254384177119565,
          254384177119634
         ]
        },
        {
         "hovertemplate": "id=64<br>x=%{x}<br>y=%{y}<br>z=%{z}<extra></extra>",
         "legendgroup": "64",
         "line": {
          "color": "#FFA15A",
          "dash": "solid"
         },
         "marker": {
          "symbol": "circle"
         },
         "mode": "lines",
         "name": "64",
         "scene": "scene",
         "showlegend": true,
         "type": "scatter3d",
         "x": [
          287704452860064,
          287704452860087
         ],
         "y": [
          121558528808556,
          121558528808732
         ],
         "z": [
          254224870158150,
          254224870158218
         ]
        },
        {
         "hovertemplate": "id=65<br>x=%{x}<br>y=%{y}<br>z=%{z}<extra></extra>",
         "legendgroup": "65",
         "line": {
          "color": "#19d3f3",
          "dash": "solid"
         },
         "marker": {
          "symbol": "circle"
         },
         "mode": "lines",
         "name": "65",
         "scene": "scene",
         "showlegend": true,
         "type": "scatter3d",
         "x": [
          275586065064718,
          275586065064949
         ],
         "y": [
          113832932538934,
          113832932539110
         ],
         "z": [
          250412578315621,
          250412578315729
         ]
        },
        {
         "hovertemplate": "id=66<br>x=%{x}<br>y=%{y}<br>z=%{z}<extra></extra>",
         "legendgroup": "66",
         "line": {
          "color": "#FF6692",
          "dash": "solid"
         },
         "marker": {
          "symbol": "circle"
         },
         "mode": "lines",
         "name": "66",
         "scene": "scene",
         "showlegend": true,
         "type": "scatter3d",
         "x": [
          280638278276355,
          280638278276449
         ],
         "y": [
          123874819227913,
          123874819228050
         ],
         "z": [
          281800323086541,
          281800323086344
         ]
        },
        {
         "hovertemplate": "id=67<br>x=%{x}<br>y=%{y}<br>z=%{z}<extra></extra>",
         "legendgroup": "67",
         "line": {
          "color": "#B6E880",
          "dash": "solid"
         },
         "marker": {
          "symbol": "circle"
         },
         "mode": "lines",
         "name": "67",
         "scene": "scene",
         "showlegend": true,
         "type": "scatter3d",
         "x": [
          493700702104308,
          116
         ],
         "y": [
          528380743592954,
          104215351644282
         ],
         "z": [
          350707777563697,
          275957319146513
         ]
        },
        {
         "hovertemplate": "id=68<br>x=%{x}<br>y=%{y}<br>z=%{z}<extra></extra>",
         "legendgroup": "68",
         "line": {
          "color": "#FF97FF",
          "dash": "solid"
         },
         "marker": {
          "symbol": "circle"
         },
         "mode": "lines",
         "name": "68",
         "scene": "scene",
         "showlegend": true,
         "type": "scatter3d",
         "x": [
          254273430941810,
          254273430941852
         ],
         "y": [
          246127394458430,
          246127394458558
         ],
         "z": [
          305873005421113,
          305873005421127
         ]
        },
        {
         "hovertemplate": "id=69<br>x=%{x}<br>y=%{y}<br>z=%{z}<extra></extra>",
         "legendgroup": "69",
         "line": {
          "color": "#FECB52",
          "dash": "solid"
         },
         "marker": {
          "symbol": "circle"
         },
         "mode": "lines",
         "name": "69",
         "scene": "scene",
         "showlegend": true,
         "type": "scatter3d",
         "x": [
          189195001805430,
          189195001805523
         ],
         "y": [
          327268786344945,
          327268786345048
         ],
         "z": [
          319530516675018,
          319530516675040
         ]
        },
        {
         "hovertemplate": "id=70<br>x=%{x}<br>y=%{y}<br>z=%{z}<extra></extra>",
         "legendgroup": "70",
         "line": {
          "color": "#636efa",
          "dash": "solid"
         },
         "marker": {
          "symbol": "circle"
         },
         "mode": "lines",
         "name": "70",
         "scene": "scene",
         "showlegend": true,
         "type": "scatter3d",
         "x": [
          325888830117990,
          197920583018192
         ],
         "y": [
          244873525901106,
          34700510796802
         ],
         "z": [
          384752213134803,
          311
         ]
        },
        {
         "hovertemplate": "id=71<br>x=%{x}<br>y=%{y}<br>z=%{z}<extra></extra>",
         "legendgroup": "71",
         "line": {
          "color": "#EF553B",
          "dash": "solid"
         },
         "marker": {
          "symbol": "circle"
         },
         "mode": "lines",
         "name": "71",
         "scene": "scene",
         "showlegend": true,
         "type": "scatter3d",
         "x": [
          401086712195530,
          152796584966857
         ],
         "y": [
          418733514897265,
          64
         ],
         "z": [
          338101695130098,
          223380184199358
         ]
        },
        {
         "hovertemplate": "id=72<br>x=%{x}<br>y=%{y}<br>z=%{z}<extra></extra>",
         "legendgroup": "72",
         "line": {
          "color": "#00cc96",
          "dash": "solid"
         },
         "marker": {
          "symbol": "circle"
         },
         "mode": "lines",
         "name": "72",
         "scene": "scene",
         "showlegend": true,
         "type": "scatter3d",
         "x": [
          230647849488649,
          230647849488709
         ],
         "y": [
          435350980629356,
          435350980629300
         ],
         "z": [
          268731710232233,
          268731710232304
         ]
        },
        {
         "hovertemplate": "id=73<br>x=%{x}<br>y=%{y}<br>z=%{z}<extra></extra>",
         "legendgroup": "73",
         "line": {
          "color": "#ab63fa",
          "dash": "solid"
         },
         "marker": {
          "symbol": "circle"
         },
         "mode": "lines",
         "name": "73",
         "scene": "scene",
         "showlegend": true,
         "type": "scatter3d",
         "x": [
          295369648182904,
          295369648182859
         ],
         "y": [
          93151204130694,
          93151204131120
         ],
         "z": [
          263077240181359,
          263077240181344
         ]
        },
        {
         "hovertemplate": "id=74<br>x=%{x}<br>y=%{y}<br>z=%{z}<extra></extra>",
         "legendgroup": "74",
         "line": {
          "color": "#FFA15A",
          "dash": "solid"
         },
         "marker": {
          "symbol": "circle"
         },
         "mode": "lines",
         "name": "74",
         "scene": "scene",
         "showlegend": true,
         "type": "scatter3d",
         "x": [
          418829662328400,
          78
         ],
         "y": [
          326986769471280,
          219133637541240
         ],
         "z": [
          418797738573353,
          57489746607719
         ]
        },
        {
         "hovertemplate": "id=75<br>x=%{x}<br>y=%{y}<br>z=%{z}<extra></extra>",
         "legendgroup": "75",
         "line": {
          "color": "#19d3f3",
          "dash": "solid"
         },
         "marker": {
          "symbol": "circle"
         },
         "mode": "lines",
         "name": "75",
         "scene": "scene",
         "showlegend": true,
         "type": "scatter3d",
         "x": [
          251815856690310,
          251815856690564
         ],
         "y": [
          194585137396830,
          194585137396555
         ],
         "z": [
          271694989005693,
          271694989005650
         ]
        },
        {
         "hovertemplate": "id=76<br>x=%{x}<br>y=%{y}<br>z=%{z}<extra></extra>",
         "legendgroup": "76",
         "line": {
          "color": "#FF6692",
          "dash": "solid"
         },
         "marker": {
          "symbol": "circle"
         },
         "mode": "lines",
         "name": "76",
         "scene": "scene",
         "showlegend": true,
         "type": "scatter3d",
         "x": [
          320084250980490,
          320084250980449
         ],
         "y": [
          430363982553600,
          430363982553585
         ],
         "z": [
          272379689756425,
          272379689756494
         ]
        },
        {
         "hovertemplate": "id=77<br>x=%{x}<br>y=%{y}<br>z=%{z}<extra></extra>",
         "legendgroup": "77",
         "line": {
          "color": "#B6E880",
          "dash": "solid"
         },
         "marker": {
          "symbol": "circle"
         },
         "mode": "lines",
         "name": "77",
         "scene": "scene",
         "showlegend": true,
         "type": "scatter3d",
         "x": [
          272457208243458,
          272457208243561
         ],
         "y": [
          108653772697770,
          108653772698070
         ],
         "z": [
          297045940728273,
          297045940728094
         ]
        },
        {
         "hovertemplate": "id=78<br>x=%{x}<br>y=%{y}<br>z=%{z}<extra></extra>",
         "legendgroup": "78",
         "line": {
          "color": "#FF97FF",
          "dash": "solid"
         },
         "marker": {
          "symbol": "circle"
         },
         "mode": "lines",
         "name": "78",
         "scene": "scene",
         "showlegend": true,
         "type": "scatter3d",
         "x": [
          255460977490872,
          255460977490922
         ],
         "y": [
          377835158364426,
          377835158364294
         ],
         "z": [
          281221792538313,
          281221792538354
         ]
        },
        {
         "hovertemplate": "id=79<br>x=%{x}<br>y=%{y}<br>z=%{z}<extra></extra>",
         "legendgroup": "79",
         "line": {
          "color": "#FECB52",
          "dash": "solid"
         },
         "marker": {
          "symbol": "circle"
         },
         "mode": "lines",
         "name": "79",
         "scene": "scene",
         "showlegend": true,
         "type": "scatter3d",
         "x": [
          186732804203969,
          186732804204101
         ],
         "y": [
          179181818690891,
          179181818691118
         ],
         "z": [
          296305762653620,
          296305762653650
         ]
        },
        {
         "hovertemplate": "id=80<br>x=%{x}<br>y=%{y}<br>z=%{z}<extra></extra>",
         "legendgroup": "80",
         "line": {
          "color": "#636efa",
          "dash": "solid"
         },
         "marker": {
          "symbol": "circle"
         },
         "mode": "lines",
         "name": "80",
         "scene": "scene",
         "showlegend": true,
         "type": "scatter3d",
         "x": [
          363360218049360,
          363360218049274
         ],
         "y": [
          457270542750130,
          457270542750090
         ],
         "z": [
          287865571450673,
          287865571450726
         ]
        },
        {
         "hovertemplate": "id=81<br>x=%{x}<br>y=%{y}<br>z=%{z}<extra></extra>",
         "legendgroup": "81",
         "line": {
          "color": "#EF553B",
          "dash": "solid"
         },
         "marker": {
          "symbol": "circle"
         },
         "mode": "lines",
         "name": "81",
         "scene": "scene",
         "showlegend": true,
         "type": "scatter3d",
         "x": [
          298636823643895,
          298636823643867
         ],
         "y": [
          142941004154310,
          142941004154544
         ],
         "z": [
          378997929287068,
          378997929286848
         ]
        },
        {
         "hovertemplate": "id=82<br>x=%{x}<br>y=%{y}<br>z=%{z}<extra></extra>",
         "legendgroup": "82",
         "line": {
          "color": "#00cc96",
          "dash": "solid"
         },
         "marker": {
          "symbol": "circle"
         },
         "mode": "lines",
         "name": "82",
         "scene": "scene",
         "showlegend": true,
         "type": "scatter3d",
         "x": [
          382702722487998,
          108318061705412
         ],
         "y": [
          513245966052726,
          289475951433918
         ],
         "z": [
          543441464074293,
          45
         ]
        },
        {
         "hovertemplate": "id=83<br>x=%{x}<br>y=%{y}<br>z=%{z}<extra></extra>",
         "legendgroup": "83",
         "line": {
          "color": "#ab63fa",
          "dash": "solid"
         },
         "marker": {
          "symbol": "circle"
         },
         "mode": "lines",
         "name": "83",
         "scene": "scene",
         "showlegend": true,
         "type": "scatter3d",
         "x": [
          228608403903005,
          228608403903131
         ],
         "y": [
          303829275389505,
          303829275389400
         ],
         "z": [
          355570720480703,
          355570720480568
         ]
        },
        {
         "hovertemplate": "id=84<br>x=%{x}<br>y=%{y}<br>z=%{z}<extra></extra>",
         "legendgroup": "84",
         "line": {
          "color": "#FFA15A",
          "dash": "solid"
         },
         "marker": {
          "symbol": "circle"
         },
         "mode": "lines",
         "name": "84",
         "scene": "scene",
         "showlegend": true,
         "type": "scatter3d",
         "x": [
          260219312780930,
          260219312781160
         ],
         "y": [
          137397315917050,
          137397315917121
         ],
         "z": [
          266549922818113,
          266549922818089
         ]
        },
        {
         "hovertemplate": "id=85<br>x=%{x}<br>y=%{y}<br>z=%{z}<extra></extra>",
         "legendgroup": "85",
         "line": {
          "color": "#19d3f3",
          "dash": "solid"
         },
         "marker": {
          "symbol": "circle"
         },
         "mode": "lines",
         "name": "85",
         "scene": "scene",
         "showlegend": true,
         "type": "scatter3d",
         "x": [
          304643969715550,
          304643969715499
         ],
         "y": [
          224581934648158,
          224581934648115
         ],
         "z": [
          272949803301789,
          272949803301814
         ]
        },
        {
         "hovertemplate": "id=86<br>x=%{x}<br>y=%{y}<br>z=%{z}<extra></extra>",
         "legendgroup": "86",
         "line": {
          "color": "#FF6692",
          "dash": "solid"
         },
         "marker": {
          "symbol": "circle"
         },
         "mode": "lines",
         "name": "86",
         "scene": "scene",
         "showlegend": true,
         "type": "scatter3d",
         "x": [
          268015204288250,
          268015204288267
         ],
         "y": [
          441520660598230,
          441520660598160
         ],
         "z": [
          343626399860368,
          343626399860350
         ]
        },
        {
         "hovertemplate": "id=87<br>x=%{x}<br>y=%{y}<br>z=%{z}<extra></extra>",
         "legendgroup": "87",
         "line": {
          "color": "#B6E880",
          "dash": "solid"
         },
         "marker": {
          "symbol": "circle"
         },
         "mode": "lines",
         "name": "87",
         "scene": "scene",
         "showlegend": true,
         "type": "scatter3d",
         "x": [
          238174446949074,
          238174446949161
         ],
         "y": [
          332863636964670,
          332863636964580
         ],
         "z": [
          357987268083903,
          357987268083799
         ]
        },
        {
         "hovertemplate": "id=88<br>x=%{x}<br>y=%{y}<br>z=%{z}<extra></extra>",
         "legendgroup": "88",
         "line": {
          "color": "#FF97FF",
          "dash": "solid"
         },
         "marker": {
          "symbol": "circle"
         },
         "mode": "lines",
         "name": "88",
         "scene": "scene",
         "showlegend": true,
         "type": "scatter3d",
         "x": [
          228308485346835,
          228308485346959
         ],
         "y": [
          276785427440115,
          276785427440076
         ],
         "z": [
          170815415970033,
          170815415970296
         ]
        },
        {
         "hovertemplate": "id=89<br>x=%{x}<br>y=%{y}<br>z=%{z}<extra></extra>",
         "legendgroup": "89",
         "line": {
          "color": "#FECB52",
          "dash": "solid"
         },
         "marker": {
          "symbol": "circle"
         },
         "mode": "lines",
         "name": "89",
         "scene": "scene",
         "showlegend": true,
         "type": "scatter3d",
         "x": [
          314650396447557,
          314650396447477
         ],
         "y": [
          123914003921973,
          123914003922242
         ],
         "z": [
          213241437994668,
          213241437994874
         ]
        },
        {
         "hovertemplate": "id=90<br>x=%{x}<br>y=%{y}<br>z=%{z}<extra></extra>",
         "legendgroup": "90",
         "line": {
          "color": "#636efa",
          "dash": "solid"
         },
         "marker": {
          "symbol": "circle"
         },
         "mode": "lines",
         "name": "90",
         "scene": "scene",
         "showlegend": true,
         "type": "scatter3d",
         "x": [
          297854289680094,
          297854289680075
         ],
         "y": [
          281401828797270,
          281401828797370
         ],
         "z": [
          371366863778853,
          371366863778789
         ]
        },
        {
         "hovertemplate": "id=91<br>x=%{x}<br>y=%{y}<br>z=%{z}<extra></extra>",
         "legendgroup": "91",
         "line": {
          "color": "#EF553B",
          "dash": "solid"
         },
         "marker": {
          "symbol": "circle"
         },
         "mode": "lines",
         "name": "91",
         "scene": "scene",
         "showlegend": true,
         "type": "scatter3d",
         "x": [
          286065635483838,
          286065635483851
         ],
         "y": [
          197701133867714,
          197701133867641
         ],
         "z": [
          271157012746365,
          271157012746372
         ]
        },
        {
         "hovertemplate": "id=92<br>x=%{x}<br>y=%{y}<br>z=%{z}<extra></extra>",
         "legendgroup": "92",
         "line": {
          "color": "#00cc96",
          "dash": "solid"
         },
         "marker": {
          "symbol": "circle"
         },
         "mode": "lines",
         "name": "92",
         "scene": "scene",
         "showlegend": true,
         "type": "scatter3d",
         "x": [
          250655739928110,
          250655739928139
         ],
         "y": [
          196904819501880,
          196904819502119
         ],
         "z": [
          302810006057913,
          302810006057954
         ]
        },
        {
         "hovertemplate": "id=93<br>x=%{x}<br>y=%{y}<br>z=%{z}<extra></extra>",
         "legendgroup": "93",
         "line": {
          "color": "#ab63fa",
          "dash": "solid"
         },
         "marker": {
          "symbol": "circle"
         },
         "mode": "lines",
         "name": "93",
         "scene": "scene",
         "showlegend": true,
         "type": "scatter3d",
         "x": [
          266668785798760,
          266668785798774
         ],
         "y": [
          448611859404060,
          448611859404045
         ],
         "z": [
          414549057547295,
          414549057547223
         ]
        },
        {
         "hovertemplate": "id=94<br>x=%{x}<br>y=%{y}<br>z=%{z}<extra></extra>",
         "legendgroup": "94",
         "line": {
          "color": "#FFA15A",
          "dash": "solid"
         },
         "marker": {
          "symbol": "circle"
         },
         "mode": "lines",
         "name": "94",
         "scene": "scene",
         "showlegend": true,
         "type": "scatter3d",
         "x": [
          322922202039681,
          217138270138689
         ],
         "y": [
          288346524052986,
          282
         ],
         "z": [
          321238043979297,
          183889551753009
         ]
        },
        {
         "hovertemplate": "id=95<br>x=%{x}<br>y=%{y}<br>z=%{z}<extra></extra>",
         "legendgroup": "95",
         "line": {
          "color": "#19d3f3",
          "dash": "solid"
         },
         "marker": {
          "symbol": "circle"
         },
         "mode": "lines",
         "name": "95",
         "scene": "scene",
         "showlegend": true,
         "type": "scatter3d",
         "x": [
          293057502181848,
          293057502181831
         ],
         "y": [
          156792975363520,
          156792975363620
         ],
         "z": [
          342205463462629,
          342205463462328
         ]
        },
        {
         "hovertemplate": "id=96<br>x=%{x}<br>y=%{y}<br>z=%{z}<extra></extra>",
         "legendgroup": "96",
         "line": {
          "color": "#FF6692",
          "dash": "solid"
         },
         "marker": {
          "symbol": "circle"
         },
         "mode": "lines",
         "name": "96",
         "scene": "scene",
         "showlegend": true,
         "type": "scatter3d",
         "x": [
          308717176917930,
          308717176917899
         ],
         "y": [
          432612150091956,
          432612150091900
         ],
         "z": [
          137325020082819,
          137325020083044
         ]
        },
        {
         "hovertemplate": "id=97<br>x=%{x}<br>y=%{y}<br>z=%{z}<extra></extra>",
         "legendgroup": "97",
         "line": {
          "color": "#B6E880",
          "dash": "solid"
         },
         "marker": {
          "symbol": "circle"
         },
         "mode": "lines",
         "name": "97",
         "scene": "scene",
         "showlegend": true,
         "type": "scatter3d",
         "x": [
          281337106418164,
          281337106418170
         ],
         "y": [
          131556887203378,
          131556887203662
         ],
         "z": [
          394376757970843,
          394376757970699
         ]
        },
        {
         "hovertemplate": "id=98<br>x=%{x}<br>y=%{y}<br>z=%{z}<extra></extra>",
         "legendgroup": "98",
         "line": {
          "color": "#FF97FF",
          "dash": "solid"
         },
         "marker": {
          "symbol": "circle"
         },
         "mode": "lines",
         "name": "98",
         "scene": "scene",
         "showlegend": true,
         "type": "scatter3d",
         "x": [
          330503962382908,
          330503962382850
         ],
         "y": [
          330818974149580,
          330818974149635
         ],
         "z": [
          537427943951777,
          537427943951522
         ]
        },
        {
         "hovertemplate": "id=99<br>x=%{x}<br>y=%{y}<br>z=%{z}<extra></extra>",
         "legendgroup": "99",
         "line": {
          "color": "#FECB52",
          "dash": "solid"
         },
         "marker": {
          "symbol": "circle"
         },
         "mode": "lines",
         "name": "99",
         "scene": "scene",
         "showlegend": true,
         "type": "scatter3d",
         "x": [
          283277882485918,
          283277882485995
         ],
         "y": [
          140980016640358,
          140980016640296
         ],
         "z": [
          250970251275309,
          250970251275406
         ]
        }
       ],
       "layout": {
        "autosize": true,
        "legend": {
         "title": {
          "text": "id"
         },
         "tracegroupgap": 0
        },
        "margin": {
         "t": 60
        },
        "scene": {
         "aspectmode": "auto",
         "aspectratio": {
          "x": 1.0259525000084397,
          "y": 0.9641703553212679,
          "z": 1.0109250810224872
         },
         "camera": {
          "center": {
           "x": 0,
           "y": 0,
           "z": 0
          },
          "eye": {
           "x": 1.1887394198182157,
           "y": 0.2701295431162353,
           "z": 0.1321069822843789
          },
          "projection": {
           "type": "perspective"
          },
          "up": {
           "x": -0.0006157412407874807,
           "y": -0.00481785200205441,
           "z": 0.9999882045128387
          }
         },
         "domain": {
          "x": [
           0,
           1
          ],
          "y": [
           0,
           1
          ]
         },
         "xaxis": {
          "title": {
           "text": "x"
          },
          "type": "linear"
         },
         "yaxis": {
          "title": {
           "text": "y"
          },
          "type": "linear"
         },
         "zaxis": {
          "title": {
           "text": "z"
          },
          "type": "linear"
         }
        },
        "template": {
         "data": {
          "bar": [
           {
            "error_x": {
             "color": "#2a3f5f"
            },
            "error_y": {
             "color": "#2a3f5f"
            },
            "marker": {
             "line": {
              "color": "#E5ECF6",
              "width": 0.5
             },
             "pattern": {
              "fillmode": "overlay",
              "size": 10,
              "solidity": 0.2
             }
            },
            "type": "bar"
           }
          ],
          "barpolar": [
           {
            "marker": {
             "line": {
              "color": "#E5ECF6",
              "width": 0.5
             },
             "pattern": {
              "fillmode": "overlay",
              "size": 10,
              "solidity": 0.2
             }
            },
            "type": "barpolar"
           }
          ],
          "carpet": [
           {
            "aaxis": {
             "endlinecolor": "#2a3f5f",
             "gridcolor": "white",
             "linecolor": "white",
             "minorgridcolor": "white",
             "startlinecolor": "#2a3f5f"
            },
            "baxis": {
             "endlinecolor": "#2a3f5f",
             "gridcolor": "white",
             "linecolor": "white",
             "minorgridcolor": "white",
             "startlinecolor": "#2a3f5f"
            },
            "type": "carpet"
           }
          ],
          "choropleth": [
           {
            "colorbar": {
             "outlinewidth": 0,
             "ticks": ""
            },
            "type": "choropleth"
           }
          ],
          "contour": [
           {
            "colorbar": {
             "outlinewidth": 0,
             "ticks": ""
            },
            "colorscale": [
             [
              0,
              "#0d0887"
             ],
             [
              0.1111111111111111,
              "#46039f"
             ],
             [
              0.2222222222222222,
              "#7201a8"
             ],
             [
              0.3333333333333333,
              "#9c179e"
             ],
             [
              0.4444444444444444,
              "#bd3786"
             ],
             [
              0.5555555555555556,
              "#d8576b"
             ],
             [
              0.6666666666666666,
              "#ed7953"
             ],
             [
              0.7777777777777778,
              "#fb9f3a"
             ],
             [
              0.8888888888888888,
              "#fdca26"
             ],
             [
              1,
              "#f0f921"
             ]
            ],
            "type": "contour"
           }
          ],
          "contourcarpet": [
           {
            "colorbar": {
             "outlinewidth": 0,
             "ticks": ""
            },
            "type": "contourcarpet"
           }
          ],
          "heatmap": [
           {
            "colorbar": {
             "outlinewidth": 0,
             "ticks": ""
            },
            "colorscale": [
             [
              0,
              "#0d0887"
             ],
             [
              0.1111111111111111,
              "#46039f"
             ],
             [
              0.2222222222222222,
              "#7201a8"
             ],
             [
              0.3333333333333333,
              "#9c179e"
             ],
             [
              0.4444444444444444,
              "#bd3786"
             ],
             [
              0.5555555555555556,
              "#d8576b"
             ],
             [
              0.6666666666666666,
              "#ed7953"
             ],
             [
              0.7777777777777778,
              "#fb9f3a"
             ],
             [
              0.8888888888888888,
              "#fdca26"
             ],
             [
              1,
              "#f0f921"
             ]
            ],
            "type": "heatmap"
           }
          ],
          "heatmapgl": [
           {
            "colorbar": {
             "outlinewidth": 0,
             "ticks": ""
            },
            "colorscale": [
             [
              0,
              "#0d0887"
             ],
             [
              0.1111111111111111,
              "#46039f"
             ],
             [
              0.2222222222222222,
              "#7201a8"
             ],
             [
              0.3333333333333333,
              "#9c179e"
             ],
             [
              0.4444444444444444,
              "#bd3786"
             ],
             [
              0.5555555555555556,
              "#d8576b"
             ],
             [
              0.6666666666666666,
              "#ed7953"
             ],
             [
              0.7777777777777778,
              "#fb9f3a"
             ],
             [
              0.8888888888888888,
              "#fdca26"
             ],
             [
              1,
              "#f0f921"
             ]
            ],
            "type": "heatmapgl"
           }
          ],
          "histogram": [
           {
            "marker": {
             "pattern": {
              "fillmode": "overlay",
              "size": 10,
              "solidity": 0.2
             }
            },
            "type": "histogram"
           }
          ],
          "histogram2d": [
           {
            "colorbar": {
             "outlinewidth": 0,
             "ticks": ""
            },
            "colorscale": [
             [
              0,
              "#0d0887"
             ],
             [
              0.1111111111111111,
              "#46039f"
             ],
             [
              0.2222222222222222,
              "#7201a8"
             ],
             [
              0.3333333333333333,
              "#9c179e"
             ],
             [
              0.4444444444444444,
              "#bd3786"
             ],
             [
              0.5555555555555556,
              "#d8576b"
             ],
             [
              0.6666666666666666,
              "#ed7953"
             ],
             [
              0.7777777777777778,
              "#fb9f3a"
             ],
             [
              0.8888888888888888,
              "#fdca26"
             ],
             [
              1,
              "#f0f921"
             ]
            ],
            "type": "histogram2d"
           }
          ],
          "histogram2dcontour": [
           {
            "colorbar": {
             "outlinewidth": 0,
             "ticks": ""
            },
            "colorscale": [
             [
              0,
              "#0d0887"
             ],
             [
              0.1111111111111111,
              "#46039f"
             ],
             [
              0.2222222222222222,
              "#7201a8"
             ],
             [
              0.3333333333333333,
              "#9c179e"
             ],
             [
              0.4444444444444444,
              "#bd3786"
             ],
             [
              0.5555555555555556,
              "#d8576b"
             ],
             [
              0.6666666666666666,
              "#ed7953"
             ],
             [
              0.7777777777777778,
              "#fb9f3a"
             ],
             [
              0.8888888888888888,
              "#fdca26"
             ],
             [
              1,
              "#f0f921"
             ]
            ],
            "type": "histogram2dcontour"
           }
          ],
          "mesh3d": [
           {
            "colorbar": {
             "outlinewidth": 0,
             "ticks": ""
            },
            "type": "mesh3d"
           }
          ],
          "parcoords": [
           {
            "line": {
             "colorbar": {
              "outlinewidth": 0,
              "ticks": ""
             }
            },
            "type": "parcoords"
           }
          ],
          "pie": [
           {
            "automargin": true,
            "type": "pie"
           }
          ],
          "scatter": [
           {
            "fillpattern": {
             "fillmode": "overlay",
             "size": 10,
             "solidity": 0.2
            },
            "type": "scatter"
           }
          ],
          "scatter3d": [
           {
            "line": {
             "colorbar": {
              "outlinewidth": 0,
              "ticks": ""
             }
            },
            "marker": {
             "colorbar": {
              "outlinewidth": 0,
              "ticks": ""
             }
            },
            "type": "scatter3d"
           }
          ],
          "scattercarpet": [
           {
            "marker": {
             "colorbar": {
              "outlinewidth": 0,
              "ticks": ""
             }
            },
            "type": "scattercarpet"
           }
          ],
          "scattergeo": [
           {
            "marker": {
             "colorbar": {
              "outlinewidth": 0,
              "ticks": ""
             }
            },
            "type": "scattergeo"
           }
          ],
          "scattergl": [
           {
            "marker": {
             "colorbar": {
              "outlinewidth": 0,
              "ticks": ""
             }
            },
            "type": "scattergl"
           }
          ],
          "scattermapbox": [
           {
            "marker": {
             "colorbar": {
              "outlinewidth": 0,
              "ticks": ""
             }
            },
            "type": "scattermapbox"
           }
          ],
          "scatterpolar": [
           {
            "marker": {
             "colorbar": {
              "outlinewidth": 0,
              "ticks": ""
             }
            },
            "type": "scatterpolar"
           }
          ],
          "scatterpolargl": [
           {
            "marker": {
             "colorbar": {
              "outlinewidth": 0,
              "ticks": ""
             }
            },
            "type": "scatterpolargl"
           }
          ],
          "scatterternary": [
           {
            "marker": {
             "colorbar": {
              "outlinewidth": 0,
              "ticks": ""
             }
            },
            "type": "scatterternary"
           }
          ],
          "surface": [
           {
            "colorbar": {
             "outlinewidth": 0,
             "ticks": ""
            },
            "colorscale": [
             [
              0,
              "#0d0887"
             ],
             [
              0.1111111111111111,
              "#46039f"
             ],
             [
              0.2222222222222222,
              "#7201a8"
             ],
             [
              0.3333333333333333,
              "#9c179e"
             ],
             [
              0.4444444444444444,
              "#bd3786"
             ],
             [
              0.5555555555555556,
              "#d8576b"
             ],
             [
              0.6666666666666666,
              "#ed7953"
             ],
             [
              0.7777777777777778,
              "#fb9f3a"
             ],
             [
              0.8888888888888888,
              "#fdca26"
             ],
             [
              1,
              "#f0f921"
             ]
            ],
            "type": "surface"
           }
          ],
          "table": [
           {
            "cells": {
             "fill": {
              "color": "#EBF0F8"
             },
             "line": {
              "color": "white"
             }
            },
            "header": {
             "fill": {
              "color": "#C8D4E3"
             },
             "line": {
              "color": "white"
             }
            },
            "type": "table"
           }
          ]
         },
         "layout": {
          "annotationdefaults": {
           "arrowcolor": "#2a3f5f",
           "arrowhead": 0,
           "arrowwidth": 1
          },
          "autotypenumbers": "strict",
          "coloraxis": {
           "colorbar": {
            "outlinewidth": 0,
            "ticks": ""
           }
          },
          "colorscale": {
           "diverging": [
            [
             0,
             "#8e0152"
            ],
            [
             0.1,
             "#c51b7d"
            ],
            [
             0.2,
             "#de77ae"
            ],
            [
             0.3,
             "#f1b6da"
            ],
            [
             0.4,
             "#fde0ef"
            ],
            [
             0.5,
             "#f7f7f7"
            ],
            [
             0.6,
             "#e6f5d0"
            ],
            [
             0.7,
             "#b8e186"
            ],
            [
             0.8,
             "#7fbc41"
            ],
            [
             0.9,
             "#4d9221"
            ],
            [
             1,
             "#276419"
            ]
           ],
           "sequential": [
            [
             0,
             "#0d0887"
            ],
            [
             0.1111111111111111,
             "#46039f"
            ],
            [
             0.2222222222222222,
             "#7201a8"
            ],
            [
             0.3333333333333333,
             "#9c179e"
            ],
            [
             0.4444444444444444,
             "#bd3786"
            ],
            [
             0.5555555555555556,
             "#d8576b"
            ],
            [
             0.6666666666666666,
             "#ed7953"
            ],
            [
             0.7777777777777778,
             "#fb9f3a"
            ],
            [
             0.8888888888888888,
             "#fdca26"
            ],
            [
             1,
             "#f0f921"
            ]
           ],
           "sequentialminus": [
            [
             0,
             "#0d0887"
            ],
            [
             0.1111111111111111,
             "#46039f"
            ],
            [
             0.2222222222222222,
             "#7201a8"
            ],
            [
             0.3333333333333333,
             "#9c179e"
            ],
            [
             0.4444444444444444,
             "#bd3786"
            ],
            [
             0.5555555555555556,
             "#d8576b"
            ],
            [
             0.6666666666666666,
             "#ed7953"
            ],
            [
             0.7777777777777778,
             "#fb9f3a"
            ],
            [
             0.8888888888888888,
             "#fdca26"
            ],
            [
             1,
             "#f0f921"
            ]
           ]
          },
          "colorway": [
           "#636efa",
           "#EF553B",
           "#00cc96",
           "#ab63fa",
           "#FFA15A",
           "#19d3f3",
           "#FF6692",
           "#B6E880",
           "#FF97FF",
           "#FECB52"
          ],
          "font": {
           "color": "#2a3f5f"
          },
          "geo": {
           "bgcolor": "white",
           "lakecolor": "white",
           "landcolor": "#E5ECF6",
           "showlakes": true,
           "showland": true,
           "subunitcolor": "white"
          },
          "hoverlabel": {
           "align": "left"
          },
          "hovermode": "closest",
          "mapbox": {
           "style": "light"
          },
          "paper_bgcolor": "white",
          "plot_bgcolor": "#E5ECF6",
          "polar": {
           "angularaxis": {
            "gridcolor": "white",
            "linecolor": "white",
            "ticks": ""
           },
           "bgcolor": "#E5ECF6",
           "radialaxis": {
            "gridcolor": "white",
            "linecolor": "white",
            "ticks": ""
           }
          },
          "scene": {
           "xaxis": {
            "backgroundcolor": "#E5ECF6",
            "gridcolor": "white",
            "gridwidth": 2,
            "linecolor": "white",
            "showbackground": true,
            "ticks": "",
            "zerolinecolor": "white"
           },
           "yaxis": {
            "backgroundcolor": "#E5ECF6",
            "gridcolor": "white",
            "gridwidth": 2,
            "linecolor": "white",
            "showbackground": true,
            "ticks": "",
            "zerolinecolor": "white"
           },
           "zaxis": {
            "backgroundcolor": "#E5ECF6",
            "gridcolor": "white",
            "gridwidth": 2,
            "linecolor": "white",
            "showbackground": true,
            "ticks": "",
            "zerolinecolor": "white"
           }
          },
          "shapedefaults": {
           "line": {
            "color": "#2a3f5f"
           }
          },
          "ternary": {
           "aaxis": {
            "gridcolor": "white",
            "linecolor": "white",
            "ticks": ""
           },
           "baxis": {
            "gridcolor": "white",
            "linecolor": "white",
            "ticks": ""
           },
           "bgcolor": "#E5ECF6",
           "caxis": {
            "gridcolor": "white",
            "linecolor": "white",
            "ticks": ""
           }
          },
          "title": {
           "x": 0.05
          },
          "xaxis": {
           "automargin": true,
           "gridcolor": "white",
           "linecolor": "white",
           "ticks": "",
           "title": {
            "standoff": 15
           },
           "zerolinecolor": "white",
           "zerolinewidth": 2
          },
          "yaxis": {
           "automargin": true,
           "gridcolor": "white",
           "linecolor": "white",
           "ticks": "",
           "title": {
            "standoff": 15
           },
           "zerolinecolor": "white",
           "zerolinewidth": 2
          }
         }
        }
       }
      },
      "image/png": "[encoded data removed]",
      "text/html": [
       "<div>                            <div id=\"94b08e21-20dd-433b-8458-77b21b7dcaab\" class=\"plotly-graph-div\" style=\"height:525px; width:100%;\"></div>            <script type=\"text/javascript\">                require([\"plotly\"], function(Plotly) {                    window.PLOTLYENV=window.PLOTLYENV || {};                                    if (document.getElementById(\"94b08e21-20dd-433b-8458-77b21b7dcaab\")) {                    Plotly.newPlot(                        \"94b08e21-20dd-433b-8458-77b21b7dcaab\",                        [{\"hovertemplate\":\"id=0\\u003cbr\\u003ex=%{x}\\u003cbr\\u003ey=%{y}\\u003cbr\\u003ez=%{z}\\u003cextra\\u003e\\u003c\\u002fextra\\u003e\",\"legendgroup\":\"0\",\"line\":{\"color\":\"#636efa\",\"dash\":\"solid\"},\"marker\":{\"symbol\":\"circle\"},\"mode\":\"lines\",\"name\":\"0\",\"scene\":\"scene\",\"showlegend\":true,\"x\":[197869613734967,197869613735117],\"y\":[292946034245705,292946034245710],\"z\":[309220804687650,309220804687642],\"type\":\"scatter3d\"},{\"hovertemplate\":\"id=1\\u003cbr\\u003ex=%{x}\\u003cbr\\u003ey=%{y}\\u003cbr\\u003ez=%{z}\\u003cextra\\u003e\\u003c\\u002fextra\\u003e\",\"legendgroup\":\"1\",\"line\":{\"color\":\"#EF553B\",\"dash\":\"solid\"},\"marker\":{\"symbol\":\"circle\"},\"mode\":\"lines\",\"name\":\"1\",\"scene\":\"scene\",\"showlegend\":true,\"x\":[344503265587754,344503265587685],\"y\":[394181872935272,394181872935283],\"z\":[376338710786779,376338710786733],\"type\":\"scatter3d\"},{\"hovertemplate\":\"id=2\\u003cbr\\u003ex=%{x}\\u003cbr\\u003ey=%{y}\\u003cbr\\u003ez=%{z}\\u003cextra\\u003e\\u003c\\u002fextra\\u003e\",\"legendgroup\":\"2\",\"line\":{\"color\":\"#00cc96\",\"dash\":\"solid\"},\"marker\":{\"symbol\":\"circle\"},\"mode\":\"lines\",\"name\":\"2\",\"scene\":\"scene\",\"showlegend\":true,\"x\":[293577250654200,293577250654183],\"y\":[176398758803665,176398758803766],\"z\":[272206447651388,272206447651414],\"type\":\"scatter3d\"},{\"hovertemplate\":\"id=3\\u003cbr\\u003ex=%{x}\\u003cbr\\u003ey=%{y}\\u003cbr\\u003ez=%{z}\\u003cextra\\u003e\\u003c\\u002fextra\\u003e\",\"legendgroup\":\"3\",\"line\":{\"color\":\"#ab63fa\",\"dash\":\"solid\"},\"marker\":{\"symbol\":\"circle\"},\"mode\":\"lines\",\"name\":\"3\",\"scene\":\"scene\",\"showlegend\":true,\"x\":[227838629808858,227838629808923],\"y\":[367321356713508,367321356713524],\"z\":[425398385268402,425398385268286],\"type\":\"scatter3d\"},{\"hovertemplate\":\"id=4\\u003cbr\\u003ex=%{x}\\u003cbr\\u003ey=%{y}\\u003cbr\\u003ez=%{z}\\u003cextra\\u003e\\u003c\\u002fextra\\u003e\",\"legendgroup\":\"4\",\"line\":{\"color\":\"#FFA15A\",\"dash\":\"solid\"},\"marker\":{\"symbol\":\"circle\"},\"mode\":\"lines\",\"name\":\"4\",\"scene\":\"scene\",\"showlegend\":true,\"x\":[297081053375721,297081053375703],\"y\":[388848043410867,388848043410828],\"z\":[296378505058047,296378505058080],\"type\":\"scatter3d\"},{\"hovertemplate\":\"id=5\\u003cbr\\u003ex=%{x}\\u003cbr\\u003ey=%{y}\\u003cbr\\u003ez=%{z}\\u003cextra\\u003e\\u003c\\u002fextra\\u003e\",\"legendgroup\":\"5\",\"line\":{\"color\":\"#19d3f3\",\"dash\":\"solid\"},\"marker\":{\"symbol\":\"circle\"},\"mode\":\"lines\",\"name\":\"5\",\"scene\":\"scene\",\"showlegend\":true,\"x\":[249754396059978,249754396060069],\"y\":[259753263131310,259753263131260],\"z\":[219900405025431,219900405025599],\"type\":\"scatter3d\"},{\"hovertemplate\":\"id=6\\u003cbr\\u003ex=%{x}\\u003cbr\\u003ey=%{y}\\u003cbr\\u003ez=%{z}\\u003cextra\\u003e\\u003c\\u002fextra\\u003e\",\"legendgroup\":\"6\",\"line\":{\"color\":\"#FF6692\",\"dash\":\"solid\"},\"marker\":{\"symbol\":\"circle\"},\"mode\":\"lines\",\"name\":\"6\",\"scene\":\"scene\",\"showlegend\":true,\"x\":[286919351742593,286919351742605],\"y\":[228761881251504,228761881251228],\"z\":[290165658974486,290165658974390],\"type\":\"scatter3d\"},{\"hovertemplate\":\"id=7\\u003cbr\\u003ex=%{x}\\u003cbr\\u003ey=%{y}\\u003cbr\\u003ez=%{z}\\u003cextra\\u003e\\u003c\\u002fextra\\u003e\",\"legendgroup\":\"7\",\"line\":{\"color\":\"#B6E880\",\"dash\":\"solid\"},\"marker\":{\"symbol\":\"circle\"},\"mode\":\"lines\",\"name\":\"7\",\"scene\":\"scene\",\"showlegend\":true,\"x\":[286311847445390,286311847445419],\"y\":[152489168079800,152489168079765],\"z\":[315302094634181,315302094633796],\"type\":\"scatter3d\"},{\"hovertemplate\":\"id=8\\u003cbr\\u003ex=%{x}\\u003cbr\\u003ey=%{y}\\u003cbr\\u003ez=%{z}\\u003cextra\\u003e\\u003c\\u002fextra\\u003e\",\"legendgroup\":\"8\",\"line\":{\"color\":\"#FF97FF\",\"dash\":\"solid\"},\"marker\":{\"symbol\":\"circle\"},\"mode\":\"lines\",\"name\":\"8\",\"scene\":\"scene\",\"showlegend\":true,\"x\":[288820028461659,288820028461651],\"y\":[150144138610263,150144138610544],\"z\":[536519846895513,536519846895304],\"type\":\"scatter3d\"},{\"hovertemplate\":\"id=9\\u003cbr\\u003ex=%{x}\\u003cbr\\u003ey=%{y}\\u003cbr\\u003ez=%{z}\\u003cextra\\u003e\\u003c\\u002fextra\\u003e\",\"legendgroup\":\"9\",\"line\":{\"color\":\"#FECB52\",\"dash\":\"solid\"},\"marker\":{\"symbol\":\"circle\"},\"mode\":\"lines\",\"name\":\"9\",\"scene\":\"scene\",\"showlegend\":true,\"x\":[351363783085246,170040386927056],\"y\":[431469241705574,343132202551584],\"z\":[539320870624397,37],\"type\":\"scatter3d\"},{\"hovertemplate\":\"id=10\\u003cbr\\u003ex=%{x}\\u003cbr\\u003ey=%{y}\\u003cbr\\u003ez=%{z}\\u003cextra\\u003e\\u003c\\u002fextra\\u003e\",\"legendgroup\":\"10\",\"line\":{\"color\":\"#636efa\",\"dash\":\"solid\"},\"marker\":{\"symbol\":\"circle\"},\"mode\":\"lines\",\"name\":\"10\",\"scene\":\"scene\",\"showlegend\":true,\"x\":[520741901046000,8],\"y\":[486075674341440,398537165113881],\"z\":[369706315508673,318081040836010],\"type\":\"scatter3d\"},{\"hovertemplate\":\"id=11\\u003cbr\\u003ex=%{x}\\u003cbr\\u003ey=%{y}\\u003cbr\\u003ez=%{z}\\u003cextra\\u003e\\u003c\\u002fextra\\u003e\",\"legendgroup\":\"11\",\"line\":{\"color\":\"#EF553B\",\"dash\":\"solid\"},\"marker\":{\"symbol\":\"circle\"},\"mode\":\"lines\",\"name\":\"11\",\"scene\":\"scene\",\"showlegend\":true,\"x\":[296908684971710,296908684971679],\"y\":[177204123362510,177204123362559],\"z\":[281142112744853,281142112744831],\"type\":\"scatter3d\"},{\"hovertemplate\":\"id=12\\u003cbr\\u003ex=%{x}\\u003cbr\\u003ey=%{y}\\u003cbr\\u003ez=%{z}\\u003cextra\\u003e\\u003c\\u002fextra\\u003e\",\"legendgroup\":\"12\",\"line\":{\"color\":\"#00cc96\",\"dash\":\"solid\"},\"marker\":{\"symbol\":\"circle\"},\"mode\":\"lines\",\"name\":\"12\",\"scene\":\"scene\",\"showlegend\":true,\"x\":[464778874251030,464778874250841],\"y\":[349646113957650,349646113957727],\"z\":[294333434112573,294333434112620],\"type\":\"scatter3d\"},{\"hovertemplate\":\"id=13\\u003cbr\\u003ex=%{x}\\u003cbr\\u003ey=%{y}\\u003cbr\\u003ez=%{z}\\u003cextra\\u003e\\u003c\\u002fextra\\u003e\",\"legendgroup\":\"13\",\"line\":{\"color\":\"#ab63fa\",\"dash\":\"solid\"},\"marker\":{\"symbol\":\"circle\"},\"mode\":\"lines\",\"name\":\"13\",\"scene\":\"scene\",\"showlegend\":true,\"x\":[223080581415839,223080581415901],\"y\":[347888203813250,347888203813320],\"z\":[182953206412142,182953206412306],\"type\":\"scatter3d\"},{\"hovertemplate\":\"id=14\\u003cbr\\u003ex=%{x}\\u003cbr\\u003ey=%{y}\\u003cbr\\u003ez=%{z}\\u003cextra\\u003e\\u003c\\u002fextra\\u003e\",\"legendgroup\":\"14\",\"line\":{\"color\":\"#FFA15A\",\"dash\":\"solid\"},\"marker\":{\"symbol\":\"circle\"},\"mode\":\"lines\",\"name\":\"14\",\"scene\":\"scene\",\"showlegend\":true,\"x\":[248758455691314,248758455691381],\"y\":[346762126256074,346762126255962],\"z\":[336814976102123,336814976102059],\"type\":\"scatter3d\"},{\"hovertemplate\":\"id=15\\u003cbr\\u003ex=%{x}\\u003cbr\\u003ey=%{y}\\u003cbr\\u003ez=%{z}\\u003cextra\\u003e\\u003c\\u002fextra\\u003e\",\"legendgroup\":\"15\",\"line\":{\"color\":\"#19d3f3\",\"dash\":\"solid\"},\"marker\":{\"symbol\":\"circle\"},\"mode\":\"lines\",\"name\":\"15\",\"scene\":\"scene\",\"showlegend\":true,\"x\":[305759617719566,305759617719529],\"y\":[278636683190318,278636683190325],\"z\":[293811872846781,293811872846794],\"type\":\"scatter3d\"},{\"hovertemplate\":\"id=16\\u003cbr\\u003ex=%{x}\\u003cbr\\u003ey=%{y}\\u003cbr\\u003ez=%{z}\\u003cextra\\u003e\\u003c\\u002fextra\\u003e\",\"legendgroup\":\"16\",\"line\":{\"color\":\"#FF6692\",\"dash\":\"solid\"},\"marker\":{\"symbol\":\"circle\"},\"mode\":\"lines\",\"name\":\"16\",\"scene\":\"scene\",\"showlegend\":true,\"x\":[261069455438014,261069455438227],\"y\":[224906346121182,224906346120624],\"z\":[312469904696747,312469904696392],\"type\":\"scatter3d\"},{\"hovertemplate\":\"id=17\\u003cbr\\u003ex=%{x}\\u003cbr\\u003ey=%{y}\\u003cbr\\u003ez=%{z}\\u003cextra\\u003e\\u003c\\u002fextra\\u003e\",\"legendgroup\":\"17\",\"line\":{\"color\":\"#B6E880\",\"dash\":\"solid\"},\"marker\":{\"symbol\":\"circle\"},\"mode\":\"lines\",\"name\":\"17\",\"scene\":\"scene\",\"showlegend\":true,\"x\":[175747324785094,175747324785205],\"y\":[297435412745142,297435412745268],\"z\":[423525775964281,423525775964191],\"type\":\"scatter3d\"},{\"hovertemplate\":\"id=18\\u003cbr\\u003ex=%{x}\\u003cbr\\u003ey=%{y}\\u003cbr\\u003ez=%{z}\\u003cextra\\u003e\\u003c\\u002fextra\\u003e\",\"legendgroup\":\"18\",\"line\":{\"color\":\"#FF97FF\",\"dash\":\"solid\"},\"marker\":{\"symbol\":\"circle\"},\"mode\":\"lines\",\"name\":\"18\",\"scene\":\"scene\",\"showlegend\":true,\"x\":[288744178785162,288744178785187],\"y\":[132122659522473,132122659522452],\"z\":[258206348685239,258206348685248],\"type\":\"scatter3d\"},{\"hovertemplate\":\"id=19\\u003cbr\\u003ex=%{x}\\u003cbr\\u003ey=%{y}\\u003cbr\\u003ez=%{z}\\u003cextra\\u003e\\u003c\\u002fextra\\u003e\",\"legendgroup\":\"19\",\"line\":{\"color\":\"#FECB52\",\"dash\":\"solid\"},\"marker\":{\"symbol\":\"circle\"},\"mode\":\"lines\",\"name\":\"19\",\"scene\":\"scene\",\"showlegend\":true,\"x\":[295813662568370,215895946553904],\"y\":[254283641864230,20],\"z\":[293357741330673,220705272226613],\"type\":\"scatter3d\"},{\"hovertemplate\":\"id=20\\u003cbr\\u003ex=%{x}\\u003cbr\\u003ey=%{y}\\u003cbr\\u003ez=%{z}\\u003cextra\\u003e\\u003c\\u002fextra\\u003e\",\"legendgroup\":\"20\",\"line\":{\"color\":\"#636efa\",\"dash\":\"solid\"},\"marker\":{\"symbol\":\"circle\"},\"mode\":\"lines\",\"name\":\"20\",\"scene\":\"scene\",\"showlegend\":true,\"x\":[154949963866962,154949963867174],\"y\":[287525861043030,287525861043060],\"z\":[236828184910989,236828184911104],\"type\":\"scatter3d\"},{\"hovertemplate\":\"id=21\\u003cbr\\u003ex=%{x}\\u003cbr\\u003ey=%{y}\\u003cbr\\u003ez=%{z}\\u003cextra\\u003e\\u003c\\u002fextra\\u003e\",\"legendgroup\":\"21\",\"line\":{\"color\":\"#EF553B\",\"dash\":\"solid\"},\"marker\":{\"symbol\":\"circle\"},\"mode\":\"lines\",\"name\":\"21\",\"scene\":\"scene\",\"showlegend\":true,\"x\":[249405710994408,249405710994448],\"y\":[288399639351476,288399639351583],\"z\":[278889781077279,278889781077337],\"type\":\"scatter3d\"},{\"hovertemplate\":\"id=22\\u003cbr\\u003ex=%{x}\\u003cbr\\u003ey=%{y}\\u003cbr\\u003ez=%{z}\\u003cextra\\u003e\\u003c\\u002fextra\\u003e\",\"legendgroup\":\"22\",\"line\":{\"color\":\"#00cc96\",\"dash\":\"solid\"},\"marker\":{\"symbol\":\"circle\"},\"mode\":\"lines\",\"name\":\"22\",\"scene\":\"scene\",\"showlegend\":true,\"x\":[261619805679875,261619805679893],\"y\":[455908136153330,455908136153320],\"z\":[353090693287483,353090693287476],\"type\":\"scatter3d\"},{\"hovertemplate\":\"id=23\\u003cbr\\u003ex=%{x}\\u003cbr\\u003ey=%{y}\\u003cbr\\u003ez=%{z}\\u003cextra\\u003e\\u003c\\u002fextra\\u003e\",\"legendgroup\":\"23\",\"line\":{\"color\":\"#ab63fa\",\"dash\":\"solid\"},\"marker\":{\"symbol\":\"circle\"},\"mode\":\"lines\",\"name\":\"23\",\"scene\":\"scene\",\"showlegend\":true,\"x\":[330456261567276,25378001349790],\"y\":[292626086331062,4],\"z\":[325102953175383,94737736276465],\"type\":\"scatter3d\"},{\"hovertemplate\":\"id=24\\u003cbr\\u003ex=%{x}\\u003cbr\\u003ey=%{y}\\u003cbr\\u003ez=%{z}\\u003cextra\\u003e\\u003c\\u002fextra\\u003e\",\"legendgroup\":\"24\",\"line\":{\"color\":\"#FFA15A\",\"dash\":\"solid\"},\"marker\":{\"symbol\":\"circle\"},\"mode\":\"lines\",\"name\":\"24\",\"scene\":\"scene\",\"showlegend\":true,\"x\":[299424195935038,299424195935019],\"y\":[510703474048950,510703474048860],\"z\":[292252992375285,292252992375334],\"type\":\"scatter3d\"},{\"hovertemplate\":\"id=25\\u003cbr\\u003ex=%{x}\\u003cbr\\u003ey=%{y}\\u003cbr\\u003ez=%{z}\\u003cextra\\u003e\\u003c\\u002fextra\\u003e\",\"legendgroup\":\"25\",\"line\":{\"color\":\"#19d3f3\",\"dash\":\"solid\"},\"marker\":{\"symbol\":\"circle\"},\"mode\":\"lines\",\"name\":\"25\",\"scene\":\"scene\",\"showlegend\":true,\"x\":[289238752547322,289238752547315],\"y\":[290180922496209,290180922496232],\"z\":[356685344768994,356685344768912],\"type\":\"scatter3d\"},{\"hovertemplate\":\"id=26\\u003cbr\\u003ex=%{x}\\u003cbr\\u003ey=%{y}\\u003cbr\\u003ez=%{z}\\u003cextra\\u003e\\u003c\\u002fextra\\u003e\",\"legendgroup\":\"26\",\"line\":{\"color\":\"#FF6692\",\"dash\":\"solid\"},\"marker\":{\"symbol\":\"circle\"},\"mode\":\"lines\",\"name\":\"26\",\"scene\":\"scene\",\"showlegend\":true,\"x\":[280872765743550,280872765743571],\"y\":[201108566398725,201108566398766],\"z\":[258965390526423,258965390526492],\"type\":\"scatter3d\"},{\"hovertemplate\":\"id=27\\u003cbr\\u003ex=%{x}\\u003cbr\\u003ey=%{y}\\u003cbr\\u003ez=%{z}\\u003cextra\\u003e\\u003c\\u002fextra\\u003e\",\"legendgroup\":\"27\",\"line\":{\"color\":\"#B6E880\",\"dash\":\"solid\"},\"marker\":{\"symbol\":\"circle\"},\"mode\":\"lines\",\"name\":\"27\",\"scene\":\"scene\",\"showlegend\":true,\"x\":[275979615869275,275979615869409],\"y\":[148504223460275,148504223460190],\"z\":[255005089561549,255005089561608],\"type\":\"scatter3d\"},{\"hovertemplate\":\"id=28\\u003cbr\\u003ex=%{x}\\u003cbr\\u003ey=%{y}\\u003cbr\\u003ez=%{z}\\u003cextra\\u003e\\u003c\\u002fextra\\u003e\",\"legendgroup\":\"28\",\"line\":{\"color\":\"#FF97FF\",\"dash\":\"solid\"},\"marker\":{\"symbol\":\"circle\"},\"mode\":\"lines\",\"name\":\"28\",\"scene\":\"scene\",\"showlegend\":true,\"x\":[387325456061188,33],\"y\":[345202312209860,42899517235300],\"z\":[329940617813946,201461929949758],\"type\":\"scatter3d\"},{\"hovertemplate\":\"id=29\\u003cbr\\u003ex=%{x}\\u003cbr\\u003ey=%{y}\\u003cbr\\u003ez=%{z}\\u003cextra\\u003e\\u003c\\u002fextra\\u003e\",\"legendgroup\":\"29\",\"line\":{\"color\":\"#FECB52\",\"dash\":\"solid\"},\"marker\":{\"symbol\":\"circle\"},\"mode\":\"lines\",\"name\":\"29\",\"scene\":\"scene\",\"showlegend\":true,\"x\":[234283292154810,234283292154874],\"y\":[377522770250222,377522770250194],\"z\":[301277403416473,301277403416499],\"type\":\"scatter3d\"},{\"hovertemplate\":\"id=30\\u003cbr\\u003ex=%{x}\\u003cbr\\u003ey=%{y}\\u003cbr\\u003ez=%{z}\\u003cextra\\u003e\\u003c\\u002fextra\\u003e\",\"legendgroup\":\"30\",\"line\":{\"color\":\"#636efa\",\"dash\":\"solid\"},\"marker\":{\"symbol\":\"circle\"},\"mode\":\"lines\",\"name\":\"30\",\"scene\":\"scene\",\"showlegend\":true,\"x\":[392077346074701,74959140893231],\"y\":[495085824379504,333643829014392],\"z\":[530452270485388,20],\"type\":\"scatter3d\"},{\"hovertemplate\":\"id=31\\u003cbr\\u003ex=%{x}\\u003cbr\\u003ey=%{y}\\u003cbr\\u003ez=%{z}\\u003cextra\\u003e\\u003c\\u002fextra\\u003e\",\"legendgroup\":\"31\",\"line\":{\"color\":\"#EF553B\",\"dash\":\"solid\"},\"marker\":{\"symbol\":\"circle\"},\"mode\":\"lines\",\"name\":\"31\",\"scene\":\"scene\",\"showlegend\":true,\"x\":[303921565996632,167570519496194],\"y\":[184162452416208,32],\"z\":[288112084900062,100408046860498],\"type\":\"scatter3d\"},{\"hovertemplate\":\"id=32\\u003cbr\\u003ex=%{x}\\u003cbr\\u003ey=%{y}\\u003cbr\\u003ez=%{z}\\u003cextra\\u003e\\u003c\\u002fextra\\u003e\",\"legendgroup\":\"32\",\"line\":{\"color\":\"#00cc96\",\"dash\":\"solid\"},\"marker\":{\"symbol\":\"circle\"},\"mode\":\"lines\",\"name\":\"32\",\"scene\":\"scene\",\"showlegend\":true,\"x\":[279914507067786,279914507067802],\"y\":[272090396870874,272090396870817],\"z\":[137037141013257,137037141013611],\"type\":\"scatter3d\"},{\"hovertemplate\":\"id=33\\u003cbr\\u003ex=%{x}\\u003cbr\\u003ey=%{y}\\u003cbr\\u003ez=%{z}\\u003cextra\\u003e\\u003c\\u002fextra\\u003e\",\"legendgroup\":\"33\",\"line\":{\"color\":\"#ab63fa\",\"dash\":\"solid\"},\"marker\":{\"symbol\":\"circle\"},\"mode\":\"lines\",\"name\":\"33\",\"scene\":\"scene\",\"showlegend\":true,\"x\":[265091370503554,265091370503595],\"y\":[259490553837145,259490553837170],\"z\":[294987941742668,294987941742674],\"type\":\"scatter3d\"},{\"hovertemplate\":\"id=34\\u003cbr\\u003ex=%{x}\\u003cbr\\u003ey=%{y}\\u003cbr\\u003ez=%{z}\\u003cextra\\u003e\\u003c\\u002fextra\\u003e\",\"legendgroup\":\"34\",\"line\":{\"color\":\"#FFA15A\",\"dash\":\"solid\"},\"marker\":{\"symbol\":\"circle\"},\"mode\":\"lines\",\"name\":\"34\",\"scene\":\"scene\",\"showlegend\":true,\"x\":[277324636544734,277324636544739],\"y\":[487331020226038,487331020225940],\"z\":[542928614247113,542928614246879],\"type\":\"scatter3d\"},{\"hovertemplate\":\"id=35\\u003cbr\\u003ex=%{x}\\u003cbr\\u003ey=%{y}\\u003cbr\\u003ez=%{z}\\u003cextra\\u003e\\u003c\\u002fextra\\u003e\",\"legendgroup\":\"35\",\"line\":{\"color\":\"#19d3f3\",\"dash\":\"solid\"},\"marker\":{\"symbol\":\"circle\"},\"mode\":\"lines\",\"name\":\"35\",\"scene\":\"scene\",\"showlegend\":true,\"x\":[261897775442772,261897775442795],\"y\":[280478694349944,280478694350072],\"z\":[288319637735007,288319637735056],\"type\":\"scatter3d\"},{\"hovertemplate\":\"id=36\\u003cbr\\u003ex=%{x}\\u003cbr\\u003ey=%{y}\\u003cbr\\u003ez=%{z}\\u003cextra\\u003e\\u003c\\u002fextra\\u003e\",\"legendgroup\":\"36\",\"line\":{\"color\":\"#FF6692\",\"dash\":\"solid\"},\"marker\":{\"symbol\":\"circle\"},\"mode\":\"lines\",\"name\":\"36\",\"scene\":\"scene\",\"showlegend\":true,\"x\":[282398761112085,282398761112159],\"y\":[136973576351520,136973576351544],\"z\":[265394454424968,265394454424932],\"type\":\"scatter3d\"},{\"hovertemplate\":\"id=37\\u003cbr\\u003ex=%{x}\\u003cbr\\u003ey=%{y}\\u003cbr\\u003ez=%{z}\\u003cextra\\u003e\\u003c\\u002fextra\\u003e\",\"legendgroup\":\"37\",\"line\":{\"color\":\"#B6E880\",\"dash\":\"solid\"},\"marker\":{\"symbol\":\"circle\"},\"mode\":\"lines\",\"name\":\"37\",\"scene\":\"scene\",\"showlegend\":true,\"x\":[347154810802281,347154810802209],\"y\":[412858527953970,412858527953960],\"z\":[218797176940017,218797176940144],\"type\":\"scatter3d\"},{\"hovertemplate\":\"id=38\\u003cbr\\u003ex=%{x}\\u003cbr\\u003ey=%{y}\\u003cbr\\u003ez=%{z}\\u003cextra\\u003e\\u003c\\u002fextra\\u003e\",\"legendgroup\":\"38\",\"line\":{\"color\":\"#FF97FF\",\"dash\":\"solid\"},\"marker\":{\"symbol\":\"circle\"},\"mode\":\"lines\",\"name\":\"38\",\"scene\":\"scene\",\"showlegend\":true,\"x\":[342824292561169,4200787937105],\"y\":[362027652434593,134995984561641],\"z\":[377103448331376,32],\"type\":\"scatter3d\"},{\"hovertemplate\":\"id=39\\u003cbr\\u003ex=%{x}\\u003cbr\\u003ey=%{y}\\u003cbr\\u003ez=%{z}\\u003cextra\\u003e\\u003c\\u002fextra\\u003e\",\"legendgroup\":\"39\",\"line\":{\"color\":\"#FECB52\",\"dash\":\"solid\"},\"marker\":{\"symbol\":\"circle\"},\"mode\":\"lines\",\"name\":\"39\",\"scene\":\"scene\",\"showlegend\":true,\"x\":[303342712558226,303342712558139],\"y\":[143531465945890,143531465945960],\"z\":[263215337554529,263215337554544],\"type\":\"scatter3d\"},{\"hovertemplate\":\"id=40\\u003cbr\\u003ex=%{x}\\u003cbr\\u003ey=%{y}\\u003cbr\\u003ez=%{z}\\u003cextra\\u003e\\u003c\\u002fextra\\u003e\",\"legendgroup\":\"40\",\"line\":{\"color\":\"#636efa\",\"dash\":\"solid\"},\"marker\":{\"symbol\":\"circle\"},\"mode\":\"lines\",\"name\":\"40\",\"scene\":\"scene\",\"showlegend\":true,\"x\":[275380876849407,275380876849549],\"y\":[104449535339038,104449535339360],\"z\":[273473922524719,273473922524604],\"type\":\"scatter3d\"},{\"hovertemplate\":\"id=41\\u003cbr\\u003ex=%{x}\\u003cbr\\u003ey=%{y}\\u003cbr\\u003ez=%{z}\\u003cextra\\u003e\\u003c\\u002fextra\\u003e\",\"legendgroup\":\"41\",\"line\":{\"color\":\"#EF553B\",\"dash\":\"solid\"},\"marker\":{\"symbol\":\"circle\"},\"mode\":\"lines\",\"name\":\"41\",\"scene\":\"scene\",\"showlegend\":true,\"x\":[285636284070876,285636284070871],\"y\":[35217949523578,35217949523976],\"z\":[152994957457591,152994957457780],\"type\":\"scatter3d\"},{\"hovertemplate\":\"id=42\\u003cbr\\u003ex=%{x}\\u003cbr\\u003ey=%{y}\\u003cbr\\u003ez=%{z}\\u003cextra\\u003e\\u003c\\u002fextra\\u003e\",\"legendgroup\":\"42\",\"line\":{\"color\":\"#00cc96\",\"dash\":\"solid\"},\"marker\":{\"symbol\":\"circle\"},\"mode\":\"lines\",\"name\":\"42\",\"scene\":\"scene\",\"showlegend\":true,\"x\":[294685250599224,294685250599170],\"y\":[122742414916884,122742414916941],\"z\":[261780925324521,261780925324466],\"type\":\"scatter3d\"},{\"hovertemplate\":\"id=43\\u003cbr\\u003ex=%{x}\\u003cbr\\u003ey=%{y}\\u003cbr\\u003ez=%{z}\\u003cextra\\u003e\\u003c\\u002fextra\\u003e\",\"legendgroup\":\"43\",\"line\":{\"color\":\"#ab63fa\",\"dash\":\"solid\"},\"marker\":{\"symbol\":\"circle\"},\"mode\":\"lines\",\"name\":\"43\",\"scene\":\"scene\",\"showlegend\":true,\"x\":[314169716569136,314169716569072],\"y\":[156663661505480,156663661505685],\"z\":[455739759596215,455739759595825],\"type\":\"scatter3d\"},{\"hovertemplate\":\"id=44\\u003cbr\\u003ex=%{x}\\u003cbr\\u003ey=%{y}\\u003cbr\\u003ez=%{z}\\u003cextra\\u003e\\u003c\\u002fextra\\u003e\",\"legendgroup\":\"44\",\"line\":{\"color\":\"#FFA15A\",\"dash\":\"solid\"},\"marker\":{\"symbol\":\"circle\"},\"mode\":\"lines\",\"name\":\"44\",\"scene\":\"scene\",\"showlegend\":true,\"x\":[300983303095740,300983303095652],\"y\":[133957419148920,133957419148999],\"z\":[261097837194423,261097837194435],\"type\":\"scatter3d\"},{\"hovertemplate\":\"id=45\\u003cbr\\u003ex=%{x}\\u003cbr\\u003ey=%{y}\\u003cbr\\u003ez=%{z}\\u003cextra\\u003e\\u003c\\u002fextra\\u003e\",\"legendgroup\":\"45\",\"line\":{\"color\":\"#19d3f3\",\"dash\":\"solid\"},\"marker\":{\"symbol\":\"circle\"},\"mode\":\"lines\",\"name\":\"45\",\"scene\":\"scene\",\"showlegend\":true,\"x\":[158215971846888,158215971847034],\"y\":[339904610013018,339904610013070],\"z\":[239642086049769,239642086049874],\"type\":\"scatter3d\"},{\"hovertemplate\":\"id=46\\u003cbr\\u003ex=%{x}\\u003cbr\\u003ey=%{y}\\u003cbr\\u003ez=%{z}\\u003cextra\\u003e\\u003c\\u002fextra\\u003e\",\"legendgroup\":\"46\",\"line\":{\"color\":\"#FF6692\",\"dash\":\"solid\"},\"marker\":{\"symbol\":\"circle\"},\"mode\":\"lines\",\"name\":\"46\",\"scene\":\"scene\",\"showlegend\":true,\"x\":[274536031464654,274536031464700],\"y\":[65723174697222,65723174697678],\"z\":[354345054787149,354345054786898],\"type\":\"scatter3d\"},{\"hovertemplate\":\"id=47\\u003cbr\\u003ex=%{x}\\u003cbr\\u003ey=%{y}\\u003cbr\\u003ez=%{z}\\u003cextra\\u003e\\u003c\\u002fextra\\u003e\",\"legendgroup\":\"47\",\"line\":{\"color\":\"#B6E880\",\"dash\":\"solid\"},\"marker\":{\"symbol\":\"circle\"},\"mode\":\"lines\",\"name\":\"47\",\"scene\":\"scene\",\"showlegend\":true,\"x\":[327841767697610,327841767697544],\"y\":[339044435628830,339044435628802],\"z\":[283110688052013,283110688052056],\"type\":\"scatter3d\"},{\"hovertemplate\":\"id=48\\u003cbr\\u003ex=%{x}\\u003cbr\\u003ey=%{y}\\u003cbr\\u003ez=%{z}\\u003cextra\\u003e\\u003c\\u002fextra\\u003e\",\"legendgroup\":\"48\",\"line\":{\"color\":\"#FF97FF\",\"dash\":\"solid\"},\"marker\":{\"symbol\":\"circle\"},\"mode\":\"lines\",\"name\":\"48\",\"scene\":\"scene\",\"showlegend\":true,\"x\":[330929514175462,330929514175395],\"y\":[504607737339754,504607737339512],\"z\":[162507010450204,162507010450422],\"type\":\"scatter3d\"},{\"hovertemplate\":\"id=49\\u003cbr\\u003ex=%{x}\\u003cbr\\u003ey=%{y}\\u003cbr\\u003ez=%{z}\\u003cextra\\u003e\\u003c\\u002fextra\\u003e\",\"legendgroup\":\"49\",\"line\":{\"color\":\"#FECB52\",\"dash\":\"solid\"},\"marker\":{\"symbol\":\"circle\"},\"mode\":\"lines\",\"name\":\"49\",\"scene\":\"scene\",\"showlegend\":true,\"x\":[276948325793030,276948325793107],\"y\":[149100573461750,149100573461808],\"z\":[201857443244268,201857443244656],\"type\":\"scatter3d\"},{\"hovertemplate\":\"id=50\\u003cbr\\u003ex=%{x}\\u003cbr\\u003ey=%{y}\\u003cbr\\u003ez=%{z}\\u003cextra\\u003e\\u003c\\u002fextra\\u003e\",\"legendgroup\":\"50\",\"line\":{\"color\":\"#636efa\",\"dash\":\"solid\"},\"marker\":{\"symbol\":\"circle\"},\"mode\":\"lines\",\"name\":\"50\",\"scene\":\"scene\",\"showlegend\":true,\"x\":[260677243049794,260677243049829],\"y\":[257886873526064,257886873526165],\"z\":[401788966601771,401788966601639],\"type\":\"scatter3d\"},{\"hovertemplate\":\"id=51\\u003cbr\\u003ex=%{x}\\u003cbr\\u003ey=%{y}\\u003cbr\\u003ez=%{z}\\u003cextra\\u003e\\u003c\\u002fextra\\u003e\",\"legendgroup\":\"51\",\"line\":{\"color\":\"#EF553B\",\"dash\":\"solid\"},\"marker\":{\"symbol\":\"circle\"},\"mode\":\"lines\",\"name\":\"51\",\"scene\":\"scene\",\"showlegend\":true,\"x\":[238764538535158,238764538535203],\"y\":[239639934534678,239639934534864],\"z\":[427263483474075,427263483473980],\"type\":\"scatter3d\"},{\"hovertemplate\":\"id=52\\u003cbr\\u003ex=%{x}\\u003cbr\\u003ey=%{y}\\u003cbr\\u003ez=%{z}\\u003cextra\\u003e\\u003c\\u002fextra\\u003e\",\"legendgroup\":\"52\",\"line\":{\"color\":\"#00cc96\",\"dash\":\"solid\"},\"marker\":{\"symbol\":\"circle\"},\"mode\":\"lines\",\"name\":\"52\",\"scene\":\"scene\",\"showlegend\":true,\"x\":[294271217851860,277376248537623],\"y\":[279973777207680,324],\"z\":[317358232153488,187025611729374],\"type\":\"scatter3d\"},{\"hovertemplate\":\"id=53\\u003cbr\\u003ex=%{x}\\u003cbr\\u003ey=%{y}\\u003cbr\\u003ez=%{z}\\u003cextra\\u003e\\u003c\\u002fextra\\u003e\",\"legendgroup\":\"53\",\"line\":{\"color\":\"#ab63fa\",\"dash\":\"solid\"},\"marker\":{\"symbol\":\"circle\"},\"mode\":\"lines\",\"name\":\"53\",\"scene\":\"scene\",\"showlegend\":true,\"x\":[240944232332486,240944232332719],\"y\":[140602546133218,140602546133370],\"z\":[173583047033163,173583047033629],\"type\":\"scatter3d\"},{\"hovertemplate\":\"id=54\\u003cbr\\u003ex=%{x}\\u003cbr\\u003ey=%{y}\\u003cbr\\u003ez=%{z}\\u003cextra\\u003e\\u003c\\u002fextra\\u003e\",\"legendgroup\":\"54\",\"line\":{\"color\":\"#FFA15A\",\"dash\":\"solid\"},\"marker\":{\"symbol\":\"circle\"},\"mode\":\"lines\",\"name\":\"54\",\"scene\":\"scene\",\"showlegend\":true,\"x\":[299283097756530,299283097756473],\"y\":[171124444230390,171124444230312],\"z\":[232178177063823,232178177064031],\"type\":\"scatter3d\"},{\"hovertemplate\":\"id=55\\u003cbr\\u003ex=%{x}\\u003cbr\\u003ey=%{y}\\u003cbr\\u003ez=%{z}\\u003cextra\\u003e\\u003c\\u002fextra\\u003e\",\"legendgroup\":\"55\",\"line\":{\"color\":\"#19d3f3\",\"dash\":\"solid\"},\"marker\":{\"symbol\":\"circle\"},\"mode\":\"lines\",\"name\":\"55\",\"scene\":\"scene\",\"showlegend\":true,\"x\":[309506824723454,309506824723411],\"y\":[193340344086617,193340344086786],\"z\":[325677550626124,325677550626082],\"type\":\"scatter3d\"},{\"hovertemplate\":\"id=56\\u003cbr\\u003ex=%{x}\\u003cbr\\u003ey=%{y}\\u003cbr\\u003ez=%{z}\\u003cextra\\u003e\\u003c\\u002fextra\\u003e\",\"legendgroup\":\"56\",\"line\":{\"color\":\"#FF6692\",\"dash\":\"solid\"},\"marker\":{\"symbol\":\"circle\"},\"mode\":\"lines\",\"name\":\"56\",\"scene\":\"scene\",\"showlegend\":true,\"x\":[313257508666173,313257508666091],\"y\":[193901329414071,193901329414104],\"z\":[312656919318366,312656919318256],\"type\":\"scatter3d\"},{\"hovertemplate\":\"id=57\\u003cbr\\u003ex=%{x}\\u003cbr\\u003ey=%{y}\\u003cbr\\u003ez=%{z}\\u003cextra\\u003e\\u003c\\u002fextra\\u003e\",\"legendgroup\":\"57\",\"line\":{\"color\":\"#B6E880\",\"dash\":\"solid\"},\"marker\":{\"symbol\":\"circle\"},\"mode\":\"lines\",\"name\":\"57\",\"scene\":\"scene\",\"showlegend\":true,\"x\":[562238344970567,83],\"y\":[521281584140464,365332262177848],\"z\":[554003079517479,137454232696281],\"type\":\"scatter3d\"},{\"hovertemplate\":\"id=58\\u003cbr\\u003ex=%{x}\\u003cbr\\u003ey=%{y}\\u003cbr\\u003ez=%{z}\\u003cextra\\u003e\\u003c\\u002fextra\\u003e\",\"legendgroup\":\"58\",\"line\":{\"color\":\"#FF97FF\",\"dash\":\"solid\"},\"marker\":{\"symbol\":\"circle\"},\"mode\":\"lines\",\"name\":\"58\",\"scene\":\"scene\",\"showlegend\":true,\"x\":[298867675092622,298867675092604],\"y\":[413106341656246,413106341656275],\"z\":[319408082070669,319408082070694],\"type\":\"scatter3d\"},{\"hovertemplate\":\"id=59\\u003cbr\\u003ex=%{x}\\u003cbr\\u003ey=%{y}\\u003cbr\\u003ez=%{z}\\u003cextra\\u003e\\u003c\\u002fextra\\u003e\",\"legendgroup\":\"59\",\"line\":{\"color\":\"#FECB52\",\"dash\":\"solid\"},\"marker\":{\"symbol\":\"circle\"},\"mode\":\"lines\",\"name\":\"59\",\"scene\":\"scene\",\"showlegend\":true,\"x\":[370336364999228,370336364999120],\"y\":[303102716871354,303102716871438],\"z\":[236944508864721,236944508864830],\"type\":\"scatter3d\"},{\"hovertemplate\":\"id=60\\u003cbr\\u003ex=%{x}\\u003cbr\\u003ey=%{y}\\u003cbr\\u003ez=%{z}\\u003cextra\\u003e\\u003c\\u002fextra\\u003e\",\"legendgroup\":\"60\",\"line\":{\"color\":\"#636efa\",\"dash\":\"solid\"},\"marker\":{\"symbol\":\"circle\"},\"mode\":\"lines\",\"name\":\"60\",\"scene\":\"scene\",\"showlegend\":true,\"x\":[280537764410923,280537764410995],\"y\":[102390738316029,102390738316368],\"z\":[173484039005415,173484039006088],\"type\":\"scatter3d\"},{\"hovertemplate\":\"id=61\\u003cbr\\u003ex=%{x}\\u003cbr\\u003ey=%{y}\\u003cbr\\u003ez=%{z}\\u003cextra\\u003e\\u003c\\u002fextra\\u003e\",\"legendgroup\":\"61\",\"line\":{\"color\":\"#EF553B\",\"dash\":\"solid\"},\"marker\":{\"symbol\":\"circle\"},\"mode\":\"lines\",\"name\":\"61\",\"scene\":\"scene\",\"showlegend\":true,\"x\":[292740513454551,292740513454537],\"y\":[187470172834775,187470172834870],\"z\":[251899331250560,251899331250650],\"type\":\"scatter3d\"},{\"hovertemplate\":\"id=62\\u003cbr\\u003ex=%{x}\\u003cbr\\u003ey=%{y}\\u003cbr\\u003ez=%{z}\\u003cextra\\u003e\\u003c\\u002fextra\\u003e\",\"legendgroup\":\"62\",\"line\":{\"color\":\"#00cc96\",\"dash\":\"solid\"},\"marker\":{\"symbol\":\"circle\"},\"mode\":\"lines\",\"name\":\"62\",\"scene\":\"scene\",\"showlegend\":true,\"x\":[311208406217498,219349878997430],\"y\":[244876960258574,177805654669318],\"z\":[384930971208158,254],\"type\":\"scatter3d\"},{\"hovertemplate\":\"id=63\\u003cbr\\u003ex=%{x}\\u003cbr\\u003ey=%{y}\\u003cbr\\u003ez=%{z}\\u003cextra\\u003e\\u003c\\u002fextra\\u003e\",\"legendgroup\":\"63\",\"line\":{\"color\":\"#ab63fa\",\"dash\":\"solid\"},\"marker\":{\"symbol\":\"circle\"},\"mode\":\"lines\",\"name\":\"63\",\"scene\":\"scene\",\"showlegend\":true,\"x\":[282757042955406,282757042955464],\"y\":[134469559669654,134469559669745],\"z\":[254384177119565,254384177119634],\"type\":\"scatter3d\"},{\"hovertemplate\":\"id=64\\u003cbr\\u003ex=%{x}\\u003cbr\\u003ey=%{y}\\u003cbr\\u003ez=%{z}\\u003cextra\\u003e\\u003c\\u002fextra\\u003e\",\"legendgroup\":\"64\",\"line\":{\"color\":\"#FFA15A\",\"dash\":\"solid\"},\"marker\":{\"symbol\":\"circle\"},\"mode\":\"lines\",\"name\":\"64\",\"scene\":\"scene\",\"showlegend\":true,\"x\":[287704452860064,287704452860087],\"y\":[121558528808556,121558528808732],\"z\":[254224870158150,254224870158218],\"type\":\"scatter3d\"},{\"hovertemplate\":\"id=65\\u003cbr\\u003ex=%{x}\\u003cbr\\u003ey=%{y}\\u003cbr\\u003ez=%{z}\\u003cextra\\u003e\\u003c\\u002fextra\\u003e\",\"legendgroup\":\"65\",\"line\":{\"color\":\"#19d3f3\",\"dash\":\"solid\"},\"marker\":{\"symbol\":\"circle\"},\"mode\":\"lines\",\"name\":\"65\",\"scene\":\"scene\",\"showlegend\":true,\"x\":[275586065064718,275586065064949],\"y\":[113832932538934,113832932539110],\"z\":[250412578315621,250412578315729],\"type\":\"scatter3d\"},{\"hovertemplate\":\"id=66\\u003cbr\\u003ex=%{x}\\u003cbr\\u003ey=%{y}\\u003cbr\\u003ez=%{z}\\u003cextra\\u003e\\u003c\\u002fextra\\u003e\",\"legendgroup\":\"66\",\"line\":{\"color\":\"#FF6692\",\"dash\":\"solid\"},\"marker\":{\"symbol\":\"circle\"},\"mode\":\"lines\",\"name\":\"66\",\"scene\":\"scene\",\"showlegend\":true,\"x\":[280638278276355,280638278276449],\"y\":[123874819227913,123874819228050],\"z\":[281800323086541,281800323086344],\"type\":\"scatter3d\"},{\"hovertemplate\":\"id=67\\u003cbr\\u003ex=%{x}\\u003cbr\\u003ey=%{y}\\u003cbr\\u003ez=%{z}\\u003cextra\\u003e\\u003c\\u002fextra\\u003e\",\"legendgroup\":\"67\",\"line\":{\"color\":\"#B6E880\",\"dash\":\"solid\"},\"marker\":{\"symbol\":\"circle\"},\"mode\":\"lines\",\"name\":\"67\",\"scene\":\"scene\",\"showlegend\":true,\"x\":[493700702104308,116],\"y\":[528380743592954,104215351644282],\"z\":[350707777563697,275957319146513],\"type\":\"scatter3d\"},{\"hovertemplate\":\"id=68\\u003cbr\\u003ex=%{x}\\u003cbr\\u003ey=%{y}\\u003cbr\\u003ez=%{z}\\u003cextra\\u003e\\u003c\\u002fextra\\u003e\",\"legendgroup\":\"68\",\"line\":{\"color\":\"#FF97FF\",\"dash\":\"solid\"},\"marker\":{\"symbol\":\"circle\"},\"mode\":\"lines\",\"name\":\"68\",\"scene\":\"scene\",\"showlegend\":true,\"x\":[254273430941810,254273430941852],\"y\":[246127394458430,246127394458558],\"z\":[305873005421113,305873005421127],\"type\":\"scatter3d\"},{\"hovertemplate\":\"id=69\\u003cbr\\u003ex=%{x}\\u003cbr\\u003ey=%{y}\\u003cbr\\u003ez=%{z}\\u003cextra\\u003e\\u003c\\u002fextra\\u003e\",\"legendgroup\":\"69\",\"line\":{\"color\":\"#FECB52\",\"dash\":\"solid\"},\"marker\":{\"symbol\":\"circle\"},\"mode\":\"lines\",\"name\":\"69\",\"scene\":\"scene\",\"showlegend\":true,\"x\":[189195001805430,189195001805523],\"y\":[327268786344945,327268786345048],\"z\":[319530516675018,319530516675040],\"type\":\"scatter3d\"},{\"hovertemplate\":\"id=70\\u003cbr\\u003ex=%{x}\\u003cbr\\u003ey=%{y}\\u003cbr\\u003ez=%{z}\\u003cextra\\u003e\\u003c\\u002fextra\\u003e\",\"legendgroup\":\"70\",\"line\":{\"color\":\"#636efa\",\"dash\":\"solid\"},\"marker\":{\"symbol\":\"circle\"},\"mode\":\"lines\",\"name\":\"70\",\"scene\":\"scene\",\"showlegend\":true,\"x\":[325888830117990,197920583018192],\"y\":[244873525901106,34700510796802],\"z\":[384752213134803,311],\"type\":\"scatter3d\"},{\"hovertemplate\":\"id=71\\u003cbr\\u003ex=%{x}\\u003cbr\\u003ey=%{y}\\u003cbr\\u003ez=%{z}\\u003cextra\\u003e\\u003c\\u002fextra\\u003e\",\"legendgroup\":\"71\",\"line\":{\"color\":\"#EF553B\",\"dash\":\"solid\"},\"marker\":{\"symbol\":\"circle\"},\"mode\":\"lines\",\"name\":\"71\",\"scene\":\"scene\",\"showlegend\":true,\"x\":[401086712195530,152796584966857],\"y\":[418733514897265,64],\"z\":[338101695130098,223380184199358],\"type\":\"scatter3d\"},{\"hovertemplate\":\"id=72\\u003cbr\\u003ex=%{x}\\u003cbr\\u003ey=%{y}\\u003cbr\\u003ez=%{z}\\u003cextra\\u003e\\u003c\\u002fextra\\u003e\",\"legendgroup\":\"72\",\"line\":{\"color\":\"#00cc96\",\"dash\":\"solid\"},\"marker\":{\"symbol\":\"circle\"},\"mode\":\"lines\",\"name\":\"72\",\"scene\":\"scene\",\"showlegend\":true,\"x\":[230647849488649,230647849488709],\"y\":[435350980629356,435350980629300],\"z\":[268731710232233,268731710232304],\"type\":\"scatter3d\"},{\"hovertemplate\":\"id=73\\u003cbr\\u003ex=%{x}\\u003cbr\\u003ey=%{y}\\u003cbr\\u003ez=%{z}\\u003cextra\\u003e\\u003c\\u002fextra\\u003e\",\"legendgroup\":\"73\",\"line\":{\"color\":\"#ab63fa\",\"dash\":\"solid\"},\"marker\":{\"symbol\":\"circle\"},\"mode\":\"lines\",\"name\":\"73\",\"scene\":\"scene\",\"showlegend\":true,\"x\":[295369648182904,295369648182859],\"y\":[93151204130694,93151204131120],\"z\":[263077240181359,263077240181344],\"type\":\"scatter3d\"},{\"hovertemplate\":\"id=74\\u003cbr\\u003ex=%{x}\\u003cbr\\u003ey=%{y}\\u003cbr\\u003ez=%{z}\\u003cextra\\u003e\\u003c\\u002fextra\\u003e\",\"legendgroup\":\"74\",\"line\":{\"color\":\"#FFA15A\",\"dash\":\"solid\"},\"marker\":{\"symbol\":\"circle\"},\"mode\":\"lines\",\"name\":\"74\",\"scene\":\"scene\",\"showlegend\":true,\"x\":[418829662328400,78],\"y\":[326986769471280,219133637541240],\"z\":[418797738573353,57489746607719],\"type\":\"scatter3d\"},{\"hovertemplate\":\"id=75\\u003cbr\\u003ex=%{x}\\u003cbr\\u003ey=%{y}\\u003cbr\\u003ez=%{z}\\u003cextra\\u003e\\u003c\\u002fextra\\u003e\",\"legendgroup\":\"75\",\"line\":{\"color\":\"#19d3f3\",\"dash\":\"solid\"},\"marker\":{\"symbol\":\"circle\"},\"mode\":\"lines\",\"name\":\"75\",\"scene\":\"scene\",\"showlegend\":true,\"x\":[251815856690310,251815856690564],\"y\":[194585137396830,194585137396555],\"z\":[271694989005693,271694989005650],\"type\":\"scatter3d\"},{\"hovertemplate\":\"id=76\\u003cbr\\u003ex=%{x}\\u003cbr\\u003ey=%{y}\\u003cbr\\u003ez=%{z}\\u003cextra\\u003e\\u003c\\u002fextra\\u003e\",\"legendgroup\":\"76\",\"line\":{\"color\":\"#FF6692\",\"dash\":\"solid\"},\"marker\":{\"symbol\":\"circle\"},\"mode\":\"lines\",\"name\":\"76\",\"scene\":\"scene\",\"showlegend\":true,\"x\":[320084250980490,320084250980449],\"y\":[430363982553600,430363982553585],\"z\":[272379689756425,272379689756494],\"type\":\"scatter3d\"},{\"hovertemplate\":\"id=77\\u003cbr\\u003ex=%{x}\\u003cbr\\u003ey=%{y}\\u003cbr\\u003ez=%{z}\\u003cextra\\u003e\\u003c\\u002fextra\\u003e\",\"legendgroup\":\"77\",\"line\":{\"color\":\"#B6E880\",\"dash\":\"solid\"},\"marker\":{\"symbol\":\"circle\"},\"mode\":\"lines\",\"name\":\"77\",\"scene\":\"scene\",\"showlegend\":true,\"x\":[272457208243458,272457208243561],\"y\":[108653772697770,108653772698070],\"z\":[297045940728273,297045940728094],\"type\":\"scatter3d\"},{\"hovertemplate\":\"id=78\\u003cbr\\u003ex=%{x}\\u003cbr\\u003ey=%{y}\\u003cbr\\u003ez=%{z}\\u003cextra\\u003e\\u003c\\u002fextra\\u003e\",\"legendgroup\":\"78\",\"line\":{\"color\":\"#FF97FF\",\"dash\":\"solid\"},\"marker\":{\"symbol\":\"circle\"},\"mode\":\"lines\",\"name\":\"78\",\"scene\":\"scene\",\"showlegend\":true,\"x\":[255460977490872,255460977490922],\"y\":[377835158364426,377835158364294],\"z\":[281221792538313,281221792538354],\"type\":\"scatter3d\"},{\"hovertemplate\":\"id=79\\u003cbr\\u003ex=%{x}\\u003cbr\\u003ey=%{y}\\u003cbr\\u003ez=%{z}\\u003cextra\\u003e\\u003c\\u002fextra\\u003e\",\"legendgroup\":\"79\",\"line\":{\"color\":\"#FECB52\",\"dash\":\"solid\"},\"marker\":{\"symbol\":\"circle\"},\"mode\":\"lines\",\"name\":\"79\",\"scene\":\"scene\",\"showlegend\":true,\"x\":[186732804203969,186732804204101],\"y\":[179181818690891,179181818691118],\"z\":[296305762653620,296305762653650],\"type\":\"scatter3d\"},{\"hovertemplate\":\"id=80\\u003cbr\\u003ex=%{x}\\u003cbr\\u003ey=%{y}\\u003cbr\\u003ez=%{z}\\u003cextra\\u003e\\u003c\\u002fextra\\u003e\",\"legendgroup\":\"80\",\"line\":{\"color\":\"#636efa\",\"dash\":\"solid\"},\"marker\":{\"symbol\":\"circle\"},\"mode\":\"lines\",\"name\":\"80\",\"scene\":\"scene\",\"showlegend\":true,\"x\":[363360218049360,363360218049274],\"y\":[457270542750130,457270542750090],\"z\":[287865571450673,287865571450726],\"type\":\"scatter3d\"},{\"hovertemplate\":\"id=81\\u003cbr\\u003ex=%{x}\\u003cbr\\u003ey=%{y}\\u003cbr\\u003ez=%{z}\\u003cextra\\u003e\\u003c\\u002fextra\\u003e\",\"legendgroup\":\"81\",\"line\":{\"color\":\"#EF553B\",\"dash\":\"solid\"},\"marker\":{\"symbol\":\"circle\"},\"mode\":\"lines\",\"name\":\"81\",\"scene\":\"scene\",\"showlegend\":true,\"x\":[298636823643895,298636823643867],\"y\":[142941004154310,142941004154544],\"z\":[378997929287068,378997929286848],\"type\":\"scatter3d\"},{\"hovertemplate\":\"id=82\\u003cbr\\u003ex=%{x}\\u003cbr\\u003ey=%{y}\\u003cbr\\u003ez=%{z}\\u003cextra\\u003e\\u003c\\u002fextra\\u003e\",\"legendgroup\":\"82\",\"line\":{\"color\":\"#00cc96\",\"dash\":\"solid\"},\"marker\":{\"symbol\":\"circle\"},\"mode\":\"lines\",\"name\":\"82\",\"scene\":\"scene\",\"showlegend\":true,\"x\":[382702722487998,108318061705412],\"y\":[513245966052726,289475951433918],\"z\":[543441464074293,45],\"type\":\"scatter3d\"},{\"hovertemplate\":\"id=83\\u003cbr\\u003ex=%{x}\\u003cbr\\u003ey=%{y}\\u003cbr\\u003ez=%{z}\\u003cextra\\u003e\\u003c\\u002fextra\\u003e\",\"legendgroup\":\"83\",\"line\":{\"color\":\"#ab63fa\",\"dash\":\"solid\"},\"marker\":{\"symbol\":\"circle\"},\"mode\":\"lines\",\"name\":\"83\",\"scene\":\"scene\",\"showlegend\":true,\"x\":[228608403903005,228608403903131],\"y\":[303829275389505,303829275389400],\"z\":[355570720480703,355570720480568],\"type\":\"scatter3d\"},{\"hovertemplate\":\"id=84\\u003cbr\\u003ex=%{x}\\u003cbr\\u003ey=%{y}\\u003cbr\\u003ez=%{z}\\u003cextra\\u003e\\u003c\\u002fextra\\u003e\",\"legendgroup\":\"84\",\"line\":{\"color\":\"#FFA15A\",\"dash\":\"solid\"},\"marker\":{\"symbol\":\"circle\"},\"mode\":\"lines\",\"name\":\"84\",\"scene\":\"scene\",\"showlegend\":true,\"x\":[260219312780930,260219312781160],\"y\":[137397315917050,137397315917121],\"z\":[266549922818113,266549922818089],\"type\":\"scatter3d\"},{\"hovertemplate\":\"id=85\\u003cbr\\u003ex=%{x}\\u003cbr\\u003ey=%{y}\\u003cbr\\u003ez=%{z}\\u003cextra\\u003e\\u003c\\u002fextra\\u003e\",\"legendgroup\":\"85\",\"line\":{\"color\":\"#19d3f3\",\"dash\":\"solid\"},\"marker\":{\"symbol\":\"circle\"},\"mode\":\"lines\",\"name\":\"85\",\"scene\":\"scene\",\"showlegend\":true,\"x\":[304643969715550,304643969715499],\"y\":[224581934648158,224581934648115],\"z\":[272949803301789,272949803301814],\"type\":\"scatter3d\"},{\"hovertemplate\":\"id=86\\u003cbr\\u003ex=%{x}\\u003cbr\\u003ey=%{y}\\u003cbr\\u003ez=%{z}\\u003cextra\\u003e\\u003c\\u002fextra\\u003e\",\"legendgroup\":\"86\",\"line\":{\"color\":\"#FF6692\",\"dash\":\"solid\"},\"marker\":{\"symbol\":\"circle\"},\"mode\":\"lines\",\"name\":\"86\",\"scene\":\"scene\",\"showlegend\":true,\"x\":[268015204288250,268015204288267],\"y\":[441520660598230,441520660598160],\"z\":[343626399860368,343626399860350],\"type\":\"scatter3d\"},{\"hovertemplate\":\"id=87\\u003cbr\\u003ex=%{x}\\u003cbr\\u003ey=%{y}\\u003cbr\\u003ez=%{z}\\u003cextra\\u003e\\u003c\\u002fextra\\u003e\",\"legendgroup\":\"87\",\"line\":{\"color\":\"#B6E880\",\"dash\":\"solid\"},\"marker\":{\"symbol\":\"circle\"},\"mode\":\"lines\",\"name\":\"87\",\"scene\":\"scene\",\"showlegend\":true,\"x\":[238174446949074,238174446949161],\"y\":[332863636964670,332863636964580],\"z\":[357987268083903,357987268083799],\"type\":\"scatter3d\"},{\"hovertemplate\":\"id=88\\u003cbr\\u003ex=%{x}\\u003cbr\\u003ey=%{y}\\u003cbr\\u003ez=%{z}\\u003cextra\\u003e\\u003c\\u002fextra\\u003e\",\"legendgroup\":\"88\",\"line\":{\"color\":\"#FF97FF\",\"dash\":\"solid\"},\"marker\":{\"symbol\":\"circle\"},\"mode\":\"lines\",\"name\":\"88\",\"scene\":\"scene\",\"showlegend\":true,\"x\":[228308485346835,228308485346959],\"y\":[276785427440115,276785427440076],\"z\":[170815415970033,170815415970296],\"type\":\"scatter3d\"},{\"hovertemplate\":\"id=89\\u003cbr\\u003ex=%{x}\\u003cbr\\u003ey=%{y}\\u003cbr\\u003ez=%{z}\\u003cextra\\u003e\\u003c\\u002fextra\\u003e\",\"legendgroup\":\"89\",\"line\":{\"color\":\"#FECB52\",\"dash\":\"solid\"},\"marker\":{\"symbol\":\"circle\"},\"mode\":\"lines\",\"name\":\"89\",\"scene\":\"scene\",\"showlegend\":true,\"x\":[314650396447557,314650396447477],\"y\":[123914003921973,123914003922242],\"z\":[213241437994668,213241437994874],\"type\":\"scatter3d\"},{\"hovertemplate\":\"id=90\\u003cbr\\u003ex=%{x}\\u003cbr\\u003ey=%{y}\\u003cbr\\u003ez=%{z}\\u003cextra\\u003e\\u003c\\u002fextra\\u003e\",\"legendgroup\":\"90\",\"line\":{\"color\":\"#636efa\",\"dash\":\"solid\"},\"marker\":{\"symbol\":\"circle\"},\"mode\":\"lines\",\"name\":\"90\",\"scene\":\"scene\",\"showlegend\":true,\"x\":[297854289680094,297854289680075],\"y\":[281401828797270,281401828797370],\"z\":[371366863778853,371366863778789],\"type\":\"scatter3d\"},{\"hovertemplate\":\"id=91\\u003cbr\\u003ex=%{x}\\u003cbr\\u003ey=%{y}\\u003cbr\\u003ez=%{z}\\u003cextra\\u003e\\u003c\\u002fextra\\u003e\",\"legendgroup\":\"91\",\"line\":{\"color\":\"#EF553B\",\"dash\":\"solid\"},\"marker\":{\"symbol\":\"circle\"},\"mode\":\"lines\",\"name\":\"91\",\"scene\":\"scene\",\"showlegend\":true,\"x\":[286065635483838,286065635483851],\"y\":[197701133867714,197701133867641],\"z\":[271157012746365,271157012746372],\"type\":\"scatter3d\"},{\"hovertemplate\":\"id=92\\u003cbr\\u003ex=%{x}\\u003cbr\\u003ey=%{y}\\u003cbr\\u003ez=%{z}\\u003cextra\\u003e\\u003c\\u002fextra\\u003e\",\"legendgroup\":\"92\",\"line\":{\"color\":\"#00cc96\",\"dash\":\"solid\"},\"marker\":{\"symbol\":\"circle\"},\"mode\":\"lines\",\"name\":\"92\",\"scene\":\"scene\",\"showlegend\":true,\"x\":[250655739928110,250655739928139],\"y\":[196904819501880,196904819502119],\"z\":[302810006057913,302810006057954],\"type\":\"scatter3d\"},{\"hovertemplate\":\"id=93\\u003cbr\\u003ex=%{x}\\u003cbr\\u003ey=%{y}\\u003cbr\\u003ez=%{z}\\u003cextra\\u003e\\u003c\\u002fextra\\u003e\",\"legendgroup\":\"93\",\"line\":{\"color\":\"#ab63fa\",\"dash\":\"solid\"},\"marker\":{\"symbol\":\"circle\"},\"mode\":\"lines\",\"name\":\"93\",\"scene\":\"scene\",\"showlegend\":true,\"x\":[266668785798760,266668785798774],\"y\":[448611859404060,448611859404045],\"z\":[414549057547295,414549057547223],\"type\":\"scatter3d\"},{\"hovertemplate\":\"id=94\\u003cbr\\u003ex=%{x}\\u003cbr\\u003ey=%{y}\\u003cbr\\u003ez=%{z}\\u003cextra\\u003e\\u003c\\u002fextra\\u003e\",\"legendgroup\":\"94\",\"line\":{\"color\":\"#FFA15A\",\"dash\":\"solid\"},\"marker\":{\"symbol\":\"circle\"},\"mode\":\"lines\",\"name\":\"94\",\"scene\":\"scene\",\"showlegend\":true,\"x\":[322922202039681,217138270138689],\"y\":[288346524052986,282],\"z\":[321238043979297,183889551753009],\"type\":\"scatter3d\"},{\"hovertemplate\":\"id=95\\u003cbr\\u003ex=%{x}\\u003cbr\\u003ey=%{y}\\u003cbr\\u003ez=%{z}\\u003cextra\\u003e\\u003c\\u002fextra\\u003e\",\"legendgroup\":\"95\",\"line\":{\"color\":\"#19d3f3\",\"dash\":\"solid\"},\"marker\":{\"symbol\":\"circle\"},\"mode\":\"lines\",\"name\":\"95\",\"scene\":\"scene\",\"showlegend\":true,\"x\":[293057502181848,293057502181831],\"y\":[156792975363520,156792975363620],\"z\":[342205463462629,342205463462328],\"type\":\"scatter3d\"},{\"hovertemplate\":\"id=96\\u003cbr\\u003ex=%{x}\\u003cbr\\u003ey=%{y}\\u003cbr\\u003ez=%{z}\\u003cextra\\u003e\\u003c\\u002fextra\\u003e\",\"legendgroup\":\"96\",\"line\":{\"color\":\"#FF6692\",\"dash\":\"solid\"},\"marker\":{\"symbol\":\"circle\"},\"mode\":\"lines\",\"name\":\"96\",\"scene\":\"scene\",\"showlegend\":true,\"x\":[308717176917930,308717176917899],\"y\":[432612150091956,432612150091900],\"z\":[137325020082819,137325020083044],\"type\":\"scatter3d\"},{\"hovertemplate\":\"id=97\\u003cbr\\u003ex=%{x}\\u003cbr\\u003ey=%{y}\\u003cbr\\u003ez=%{z}\\u003cextra\\u003e\\u003c\\u002fextra\\u003e\",\"legendgroup\":\"97\",\"line\":{\"color\":\"#B6E880\",\"dash\":\"solid\"},\"marker\":{\"symbol\":\"circle\"},\"mode\":\"lines\",\"name\":\"97\",\"scene\":\"scene\",\"showlegend\":true,\"x\":[281337106418164,281337106418170],\"y\":[131556887203378,131556887203662],\"z\":[394376757970843,394376757970699],\"type\":\"scatter3d\"},{\"hovertemplate\":\"id=98\\u003cbr\\u003ex=%{x}\\u003cbr\\u003ey=%{y}\\u003cbr\\u003ez=%{z}\\u003cextra\\u003e\\u003c\\u002fextra\\u003e\",\"legendgroup\":\"98\",\"line\":{\"color\":\"#FF97FF\",\"dash\":\"solid\"},\"marker\":{\"symbol\":\"circle\"},\"mode\":\"lines\",\"name\":\"98\",\"scene\":\"scene\",\"showlegend\":true,\"x\":[330503962382908,330503962382850],\"y\":[330818974149580,330818974149635],\"z\":[537427943951777,537427943951522],\"type\":\"scatter3d\"},{\"hovertemplate\":\"id=99\\u003cbr\\u003ex=%{x}\\u003cbr\\u003ey=%{y}\\u003cbr\\u003ez=%{z}\\u003cextra\\u003e\\u003c\\u002fextra\\u003e\",\"legendgroup\":\"99\",\"line\":{\"color\":\"#FECB52\",\"dash\":\"solid\"},\"marker\":{\"symbol\":\"circle\"},\"mode\":\"lines\",\"name\":\"99\",\"scene\":\"scene\",\"showlegend\":true,\"x\":[283277882485918,283277882485995],\"y\":[140980016640358,140980016640296],\"z\":[250970251275309,250970251275406],\"type\":\"scatter3d\"}],                        {\"template\":{\"data\":{\"histogram2dcontour\":[{\"type\":\"histogram2dcontour\",\"colorbar\":{\"outlinewidth\":0,\"ticks\":\"\"},\"colorscale\":[[0.0,\"#0d0887\"],[0.1111111111111111,\"#46039f\"],[0.2222222222222222,\"#7201a8\"],[0.3333333333333333,\"#9c179e\"],[0.4444444444444444,\"#bd3786\"],[0.5555555555555556,\"#d8576b\"],[0.6666666666666666,\"#ed7953\"],[0.7777777777777778,\"#fb9f3a\"],[0.8888888888888888,\"#fdca26\"],[1.0,\"#f0f921\"]]}],\"choropleth\":[{\"type\":\"choropleth\",\"colorbar\":{\"outlinewidth\":0,\"ticks\":\"\"}}],\"histogram2d\":[{\"type\":\"histogram2d\",\"colorbar\":{\"outlinewidth\":0,\"ticks\":\"\"},\"colorscale\":[[0.0,\"#0d0887\"],[0.1111111111111111,\"#46039f\"],[0.2222222222222222,\"#7201a8\"],[0.3333333333333333,\"#9c179e\"],[0.4444444444444444,\"#bd3786\"],[0.5555555555555556,\"#d8576b\"],[0.6666666666666666,\"#ed7953\"],[0.7777777777777778,\"#fb9f3a\"],[0.8888888888888888,\"#fdca26\"],[1.0,\"#f0f921\"]]}],\"heatmap\":[{\"type\":\"heatmap\",\"colorbar\":{\"outlinewidth\":0,\"ticks\":\"\"},\"colorscale\":[[0.0,\"#0d0887\"],[0.1111111111111111,\"#46039f\"],[0.2222222222222222,\"#7201a8\"],[0.3333333333333333,\"#9c179e\"],[0.4444444444444444,\"#bd3786\"],[0.5555555555555556,\"#d8576b\"],[0.6666666666666666,\"#ed7953\"],[0.7777777777777778,\"#fb9f3a\"],[0.8888888888888888,\"#fdca26\"],[1.0,\"#f0f921\"]]}],\"heatmapgl\":[{\"type\":\"heatmapgl\",\"colorbar\":{\"outlinewidth\":0,\"ticks\":\"\"},\"colorscale\":[[0.0,\"#0d0887\"],[0.1111111111111111,\"#46039f\"],[0.2222222222222222,\"#7201a8\"],[0.3333333333333333,\"#9c179e\"],[0.4444444444444444,\"#bd3786\"],[0.5555555555555556,\"#d8576b\"],[0.6666666666666666,\"#ed7953\"],[0.7777777777777778,\"#fb9f3a\"],[0.8888888888888888,\"#fdca26\"],[1.0,\"#f0f921\"]]}],\"contourcarpet\":[{\"type\":\"contourcarpet\",\"colorbar\":{\"outlinewidth\":0,\"ticks\":\"\"}}],\"contour\":[{\"type\":\"contour\",\"colorbar\":{\"outlinewidth\":0,\"ticks\":\"\"},\"colorscale\":[[0.0,\"#0d0887\"],[0.1111111111111111,\"#46039f\"],[0.2222222222222222,\"#7201a8\"],[0.3333333333333333,\"#9c179e\"],[0.4444444444444444,\"#bd3786\"],[0.5555555555555556,\"#d8576b\"],[0.6666666666666666,\"#ed7953\"],[0.7777777777777778,\"#fb9f3a\"],[0.8888888888888888,\"#fdca26\"],[1.0,\"#f0f921\"]]}],\"surface\":[{\"type\":\"surface\",\"colorbar\":{\"outlinewidth\":0,\"ticks\":\"\"},\"colorscale\":[[0.0,\"#0d0887\"],[0.1111111111111111,\"#46039f\"],[0.2222222222222222,\"#7201a8\"],[0.3333333333333333,\"#9c179e\"],[0.4444444444444444,\"#bd3786\"],[0.5555555555555556,\"#d8576b\"],[0.6666666666666666,\"#ed7953\"],[0.7777777777777778,\"#fb9f3a\"],[0.8888888888888888,\"#fdca26\"],[1.0,\"#f0f921\"]]}],\"mesh3d\":[{\"type\":\"mesh3d\",\"colorbar\":{\"outlinewidth\":0,\"ticks\":\"\"}}],\"scatter\":[{\"fillpattern\":{\"fillmode\":\"overlay\",\"size\":10,\"solidity\":0.2},\"type\":\"scatter\"}],\"parcoords\":[{\"type\":\"parcoords\",\"line\":{\"colorbar\":{\"outlinewidth\":0,\"ticks\":\"\"}}}],\"scatterpolargl\":[{\"type\":\"scatterpolargl\",\"marker\":{\"colorbar\":{\"outlinewidth\":0,\"ticks\":\"\"}}}],\"bar\":[{\"error_x\":{\"color\":\"#2a3f5f\"},\"error_y\":{\"color\":\"#2a3f5f\"},\"marker\":{\"line\":{\"color\":\"#E5ECF6\",\"width\":0.5},\"pattern\":{\"fillmode\":\"overlay\",\"size\":10,\"solidity\":0.2}},\"type\":\"bar\"}],\"scattergeo\":[{\"type\":\"scattergeo\",\"marker\":{\"colorbar\":{\"outlinewidth\":0,\"ticks\":\"\"}}}],\"scatterpolar\":[{\"type\":\"scatterpolar\",\"marker\":{\"colorbar\":{\"outlinewidth\":0,\"ticks\":\"\"}}}],\"histogram\":[{\"marker\":{\"pattern\":{\"fillmode\":\"overlay\",\"size\":10,\"solidity\":0.2}},\"type\":\"histogram\"}],\"scattergl\":[{\"type\":\"scattergl\",\"marker\":{\"colorbar\":{\"outlinewidth\":0,\"ticks\":\"\"}}}],\"scatter3d\":[{\"type\":\"scatter3d\",\"line\":{\"colorbar\":{\"outlinewidth\":0,\"ticks\":\"\"}},\"marker\":{\"colorbar\":{\"outlinewidth\":0,\"ticks\":\"\"}}}],\"scattermapbox\":[{\"type\":\"scattermapbox\",\"marker\":{\"colorbar\":{\"outlinewidth\":0,\"ticks\":\"\"}}}],\"scatterternary\":[{\"type\":\"scatterternary\",\"marker\":{\"colorbar\":{\"outlinewidth\":0,\"ticks\":\"\"}}}],\"scattercarpet\":[{\"type\":\"scattercarpet\",\"marker\":{\"colorbar\":{\"outlinewidth\":0,\"ticks\":\"\"}}}],\"carpet\":[{\"aaxis\":{\"endlinecolor\":\"#2a3f5f\",\"gridcolor\":\"white\",\"linecolor\":\"white\",\"minorgridcolor\":\"white\",\"startlinecolor\":\"#2a3f5f\"},\"baxis\":{\"endlinecolor\":\"#2a3f5f\",\"gridcolor\":\"white\",\"linecolor\":\"white\",\"minorgridcolor\":\"white\",\"startlinecolor\":\"#2a3f5f\"},\"type\":\"carpet\"}],\"table\":[{\"cells\":{\"fill\":{\"color\":\"#EBF0F8\"},\"line\":{\"color\":\"white\"}},\"header\":{\"fill\":{\"color\":\"#C8D4E3\"},\"line\":{\"color\":\"white\"}},\"type\":\"table\"}],\"barpolar\":[{\"marker\":{\"line\":{\"color\":\"#E5ECF6\",\"width\":0.5},\"pattern\":{\"fillmode\":\"overlay\",\"size\":10,\"solidity\":0.2}},\"type\":\"barpolar\"}],\"pie\":[{\"automargin\":true,\"type\":\"pie\"}]},\"layout\":{\"autotypenumbers\":\"strict\",\"colorway\":[\"#636efa\",\"#EF553B\",\"#00cc96\",\"#ab63fa\",\"#FFA15A\",\"#19d3f3\",\"#FF6692\",\"#B6E880\",\"#FF97FF\",\"#FECB52\"],\"font\":{\"color\":\"#2a3f5f\"},\"hovermode\":\"closest\",\"hoverlabel\":{\"align\":\"left\"},\"paper_bgcolor\":\"white\",\"plot_bgcolor\":\"#E5ECF6\",\"polar\":{\"bgcolor\":\"#E5ECF6\",\"angularaxis\":{\"gridcolor\":\"white\",\"linecolor\":\"white\",\"ticks\":\"\"},\"radialaxis\":{\"gridcolor\":\"white\",\"linecolor\":\"white\",\"ticks\":\"\"}},\"ternary\":{\"bgcolor\":\"#E5ECF6\",\"aaxis\":{\"gridcolor\":\"white\",\"linecolor\":\"white\",\"ticks\":\"\"},\"baxis\":{\"gridcolor\":\"white\",\"linecolor\":\"white\",\"ticks\":\"\"},\"caxis\":{\"gridcolor\":\"white\",\"linecolor\":\"white\",\"ticks\":\"\"}},\"coloraxis\":{\"colorbar\":{\"outlinewidth\":0,\"ticks\":\"\"}},\"colorscale\":{\"sequential\":[[0.0,\"#0d0887\"],[0.1111111111111111,\"#46039f\"],[0.2222222222222222,\"#7201a8\"],[0.3333333333333333,\"#9c179e\"],[0.4444444444444444,\"#bd3786\"],[0.5555555555555556,\"#d8576b\"],[0.6666666666666666,\"#ed7953\"],[0.7777777777777778,\"#fb9f3a\"],[0.8888888888888888,\"#fdca26\"],[1.0,\"#f0f921\"]],\"sequentialminus\":[[0.0,\"#0d0887\"],[0.1111111111111111,\"#46039f\"],[0.2222222222222222,\"#7201a8\"],[0.3333333333333333,\"#9c179e\"],[0.4444444444444444,\"#bd3786\"],[0.5555555555555556,\"#d8576b\"],[0.6666666666666666,\"#ed7953\"],[0.7777777777777778,\"#fb9f3a\"],[0.8888888888888888,\"#fdca26\"],[1.0,\"#f0f921\"]],\"diverging\":[[0,\"#8e0152\"],[0.1,\"#c51b7d\"],[0.2,\"#de77ae\"],[0.3,\"#f1b6da\"],[0.4,\"#fde0ef\"],[0.5,\"#f7f7f7\"],[0.6,\"#e6f5d0\"],[0.7,\"#b8e186\"],[0.8,\"#7fbc41\"],[0.9,\"#4d9221\"],[1,\"#276419\"]]},\"xaxis\":{\"gridcolor\":\"white\",\"linecolor\":\"white\",\"ticks\":\"\",\"title\":{\"standoff\":15},\"zerolinecolor\":\"white\",\"automargin\":true,\"zerolinewidth\":2},\"yaxis\":{\"gridcolor\":\"white\",\"linecolor\":\"white\",\"ticks\":\"\",\"title\":{\"standoff\":15},\"zerolinecolor\":\"white\",\"automargin\":true,\"zerolinewidth\":2},\"scene\":{\"xaxis\":{\"backgroundcolor\":\"#E5ECF6\",\"gridcolor\":\"white\",\"linecolor\":\"white\",\"showbackground\":true,\"ticks\":\"\",\"zerolinecolor\":\"white\",\"gridwidth\":2},\"yaxis\":{\"backgroundcolor\":\"#E5ECF6\",\"gridcolor\":\"white\",\"linecolor\":\"white\",\"showbackground\":true,\"ticks\":\"\",\"zerolinecolor\":\"white\",\"gridwidth\":2},\"zaxis\":{\"backgroundcolor\":\"#E5ECF6\",\"gridcolor\":\"white\",\"linecolor\":\"white\",\"showbackground\":true,\"ticks\":\"\",\"zerolinecolor\":\"white\",\"gridwidth\":2}},\"shapedefaults\":{\"line\":{\"color\":\"#2a3f5f\"}},\"annotationdefaults\":{\"arrowcolor\":\"#2a3f5f\",\"arrowhead\":0,\"arrowwidth\":1},\"geo\":{\"bgcolor\":\"white\",\"landcolor\":\"#E5ECF6\",\"subunitcolor\":\"white\",\"showland\":true,\"showlakes\":true,\"lakecolor\":\"white\"},\"title\":{\"x\":0.05},\"mapbox\":{\"style\":\"light\"}}},\"scene\":{\"domain\":{\"x\":[0.0,1.0],\"y\":[0.0,1.0]},\"xaxis\":{\"title\":{\"text\":\"x\"}},\"yaxis\":{\"title\":{\"text\":\"y\"}},\"zaxis\":{\"title\":{\"text\":\"z\"}}},\"legend\":{\"title\":{\"text\":\"id\"},\"tracegroupgap\":0},\"margin\":{\"t\":60}},                        {\"responsive\": true}                    ).then(function(){\n",
       "                            \n",
       "var gd = document.getElementById('94b08e21-20dd-433b-8458-77b21b7dcaab');\n",
       "var x = new MutationObserver(function (mutations, observer) {{\n",
       "        var display = window.getComputedStyle(gd).display;\n",
       "        if (!display || display === 'none') {{\n",
       "            console.log([gd, 'removed!']);\n",
       "            Plotly.purge(gd);\n",
       "            observer.disconnect();\n",
       "        }}\n",
       "}});\n",
       "\n",
       "// Listen for the removal of the full notebook cells\n",
       "var notebookContainer = gd.closest('#notebook-container');\n",
       "if (notebookContainer) {{\n",
       "    x.observe(notebookContainer, {childList: true});\n",
       "}}\n",
       "\n",
       "// Listen for the clearing of the current output cell\n",
       "var outputEl = gd.closest('.output');\n",
       "if (outputEl) {{\n",
       "    x.observe(outputEl, {childList: true});\n",
       "}}\n",
       "\n",
       "                        })                };                });            </script>        </div>"
      ]
     },
     "metadata": {},
     "output_type": "display_data"
    }
   ],
   "source": [
    "fig = px.line_3d(hail, x=\"x\", y=\"y\", z=\"z\", color=\"id\")\n",
    "fig.show()"
   ]
  },
  {
   "cell_type": "code",
   "execution_count": null,
   "id": "a83028aa-8d68-41d2-aa52-f458985be128",
   "metadata": {},
   "outputs": [],
   "source": []
  }
 ],
 "metadata": {
  "kernelspec": {
   "display_name": "Python 3 (ipykernel)",
   "language": "python",
   "name": "python3"
  },
  "language_info": {
   "codemirror_mode": {
    "name": "ipython",
    "version": 3
   },
   "file_extension": ".py",
   "mimetype": "text/x-python",
   "name": "python",
   "nbconvert_exporter": "python",
   "pygments_lexer": "ipython3",
   "version": "3.11.7"
  }
 },
 "nbformat": 4,
 "nbformat_minor": 5
}
